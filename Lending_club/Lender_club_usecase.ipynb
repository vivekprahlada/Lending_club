{
 "cells": [
  {
   "cell_type": "markdown",
   "id": "24da3a9d",
   "metadata": {},
   "source": [
    "# Lender club case study\n"
   ]
  },
  {
   "cell_type": "markdown",
   "id": "264e83d7",
   "metadata": {},
   "source": [
    "## Objective:\n",
    "To help determine (driving factors behind) the potential defaulters among the loan applicants"
   ]
  },
  {
   "cell_type": "code",
   "execution_count": 1,
   "id": "b2412268",
   "metadata": {},
   "outputs": [],
   "source": [
    "#import the required libraries\n",
    "import pandas as pd\n",
    "import seaborn as sns\n",
    "import matplotlib.pyplot as plt"
   ]
  },
  {
   "cell_type": "code",
   "execution_count": 2,
   "id": "4f54469c",
   "metadata": {},
   "outputs": [],
   "source": [
    "df = pd.read_csv(\"loan.csv\",low_memory=False)"
   ]
  },
  {
   "cell_type": "markdown",
   "id": "8205fc2a",
   "metadata": {},
   "source": [
    "## Data cleaning\n",
    "### Fix columns"
   ]
  },
  {
   "cell_type": "code",
   "execution_count": 3,
   "id": "e823d5d6",
   "metadata": {},
   "outputs": [
    {
     "name": "stdout",
     "output_type": "stream",
     "text": [
      "<class 'pandas.core.frame.DataFrame'>\n",
      "RangeIndex: 39717 entries, 0 to 39716\n",
      "Data columns (total 111 columns):\n",
      " #    Column                          Non-Null Count  Dtype  \n",
      "---   ------                          --------------  -----  \n",
      " 0    id                              39717 non-null  int64  \n",
      " 1    member_id                       39717 non-null  int64  \n",
      " 2    loan_amnt                       39717 non-null  int64  \n",
      " 3    funded_amnt                     39717 non-null  int64  \n",
      " 4    funded_amnt_inv                 39717 non-null  float64\n",
      " 5    term                            39717 non-null  object \n",
      " 6    int_rate                        39717 non-null  object \n",
      " 7    installment                     39717 non-null  float64\n",
      " 8    grade                           39717 non-null  object \n",
      " 9    sub_grade                       39717 non-null  object \n",
      " 10   emp_title                       37258 non-null  object \n",
      " 11   emp_length                      38642 non-null  object \n",
      " 12   home_ownership                  39717 non-null  object \n",
      " 13   annual_inc                      39717 non-null  float64\n",
      " 14   verification_status             39717 non-null  object \n",
      " 15   issue_d                         39717 non-null  object \n",
      " 16   loan_status                     39717 non-null  object \n",
      " 17   pymnt_plan                      39717 non-null  object \n",
      " 18   url                             39717 non-null  object \n",
      " 19   desc                            26777 non-null  object \n",
      " 20   purpose                         39717 non-null  object \n",
      " 21   title                           39706 non-null  object \n",
      " 22   zip_code                        39717 non-null  object \n",
      " 23   addr_state                      39717 non-null  object \n",
      " 24   dti                             39717 non-null  float64\n",
      " 25   delinq_2yrs                     39717 non-null  int64  \n",
      " 26   earliest_cr_line                39717 non-null  object \n",
      " 27   inq_last_6mths                  39717 non-null  int64  \n",
      " 28   mths_since_last_delinq          14035 non-null  float64\n",
      " 29   mths_since_last_record          2786 non-null   float64\n",
      " 30   open_acc                        39717 non-null  int64  \n",
      " 31   pub_rec                         39717 non-null  int64  \n",
      " 32   revol_bal                       39717 non-null  int64  \n",
      " 33   revol_util                      39667 non-null  object \n",
      " 34   total_acc                       39717 non-null  int64  \n",
      " 35   initial_list_status             39717 non-null  object \n",
      " 36   out_prncp                       39717 non-null  float64\n",
      " 37   out_prncp_inv                   39717 non-null  float64\n",
      " 38   total_pymnt                     39717 non-null  float64\n",
      " 39   total_pymnt_inv                 39717 non-null  float64\n",
      " 40   total_rec_prncp                 39717 non-null  float64\n",
      " 41   total_rec_int                   39717 non-null  float64\n",
      " 42   total_rec_late_fee              39717 non-null  float64\n",
      " 43   recoveries                      39717 non-null  float64\n",
      " 44   collection_recovery_fee         39717 non-null  float64\n",
      " 45   last_pymnt_d                    39646 non-null  object \n",
      " 46   last_pymnt_amnt                 39717 non-null  float64\n",
      " 47   next_pymnt_d                    1140 non-null   object \n",
      " 48   last_credit_pull_d              39715 non-null  object \n",
      " 49   collections_12_mths_ex_med      39661 non-null  float64\n",
      " 50   mths_since_last_major_derog     0 non-null      float64\n",
      " 51   policy_code                     39717 non-null  int64  \n",
      " 52   application_type                39717 non-null  object \n",
      " 53   annual_inc_joint                0 non-null      float64\n",
      " 54   dti_joint                       0 non-null      float64\n",
      " 55   verification_status_joint       0 non-null      float64\n",
      " 56   acc_now_delinq                  39717 non-null  int64  \n",
      " 57   tot_coll_amt                    0 non-null      float64\n",
      " 58   tot_cur_bal                     0 non-null      float64\n",
      " 59   open_acc_6m                     0 non-null      float64\n",
      " 60   open_il_6m                      0 non-null      float64\n",
      " 61   open_il_12m                     0 non-null      float64\n",
      " 62   open_il_24m                     0 non-null      float64\n",
      " 63   mths_since_rcnt_il              0 non-null      float64\n",
      " 64   total_bal_il                    0 non-null      float64\n",
      " 65   il_util                         0 non-null      float64\n",
      " 66   open_rv_12m                     0 non-null      float64\n",
      " 67   open_rv_24m                     0 non-null      float64\n",
      " 68   max_bal_bc                      0 non-null      float64\n",
      " 69   all_util                        0 non-null      float64\n",
      " 70   total_rev_hi_lim                0 non-null      float64\n",
      " 71   inq_fi                          0 non-null      float64\n",
      " 72   total_cu_tl                     0 non-null      float64\n",
      " 73   inq_last_12m                    0 non-null      float64\n",
      " 74   acc_open_past_24mths            0 non-null      float64\n",
      " 75   avg_cur_bal                     0 non-null      float64\n",
      " 76   bc_open_to_buy                  0 non-null      float64\n",
      " 77   bc_util                         0 non-null      float64\n",
      " 78   chargeoff_within_12_mths        39661 non-null  float64\n",
      " 79   delinq_amnt                     39717 non-null  int64  \n",
      " 80   mo_sin_old_il_acct              0 non-null      float64\n",
      " 81   mo_sin_old_rev_tl_op            0 non-null      float64\n",
      " 82   mo_sin_rcnt_rev_tl_op           0 non-null      float64\n",
      " 83   mo_sin_rcnt_tl                  0 non-null      float64\n",
      " 84   mort_acc                        0 non-null      float64\n",
      " 85   mths_since_recent_bc            0 non-null      float64\n",
      " 86   mths_since_recent_bc_dlq        0 non-null      float64\n",
      " 87   mths_since_recent_inq           0 non-null      float64\n",
      " 88   mths_since_recent_revol_delinq  0 non-null      float64\n",
      " 89   num_accts_ever_120_pd           0 non-null      float64\n",
      " 90   num_actv_bc_tl                  0 non-null      float64\n",
      " 91   num_actv_rev_tl                 0 non-null      float64\n",
      " 92   num_bc_sats                     0 non-null      float64\n",
      " 93   num_bc_tl                       0 non-null      float64\n",
      " 94   num_il_tl                       0 non-null      float64\n",
      " 95   num_op_rev_tl                   0 non-null      float64\n",
      " 96   num_rev_accts                   0 non-null      float64\n",
      " 97   num_rev_tl_bal_gt_0             0 non-null      float64\n",
      " 98   num_sats                        0 non-null      float64\n",
      " 99   num_tl_120dpd_2m                0 non-null      float64\n",
      " 100  num_tl_30dpd                    0 non-null      float64\n",
      " 101  num_tl_90g_dpd_24m              0 non-null      float64\n",
      " 102  num_tl_op_past_12m              0 non-null      float64\n",
      " 103  pct_tl_nvr_dlq                  0 non-null      float64\n",
      " 104  percent_bc_gt_75                0 non-null      float64\n",
      " 105  pub_rec_bankruptcies            39020 non-null  float64\n",
      " 106  tax_liens                       39678 non-null  float64\n",
      " 107  tot_hi_cred_lim                 0 non-null      float64\n",
      " 108  total_bal_ex_mort               0 non-null      float64\n",
      " 109  total_bc_limit                  0 non-null      float64\n",
      " 110  total_il_high_credit_limit      0 non-null      float64\n",
      "dtypes: float64(74), int64(13), object(24)\n",
      "memory usage: 33.6+ MB\n"
     ]
    },
    {
     "name": "stderr",
     "output_type": "stream",
     "text": [
      "C:\\Users\\Vivek Prahlada\\AppData\\Local\\Temp\\ipykernel_14448\\2728897127.py:1: FutureWarning: null_counts is deprecated. Use show_counts instead\n",
      "  df.info(verbose=True,null_counts=True)\n"
     ]
    }
   ],
   "source": [
    "df.info(verbose=True,null_counts=True)"
   ]
  },
  {
   "cell_type": "markdown",
   "id": "4330dac7",
   "metadata": {},
   "source": [
    "#### Looks like a lot columns are having complete missing values.\n",
    "#### All the 0 count non null cloumns shall be deleted. It is as good as non existent"
   ]
  },
  {
   "cell_type": "code",
   "execution_count": 4,
   "id": "00c32ec8",
   "metadata": {},
   "outputs": [],
   "source": [
    "f = lambda x:x.name if (x.isnull().sum() >= x.shape[0]) else 'Valid'"
   ]
  },
  {
   "cell_type": "code",
   "execution_count": 5,
   "id": "ce7fe83d",
   "metadata": {},
   "outputs": [],
   "source": [
    "invalid_columns_name = df.apply(f)"
   ]
  },
  {
   "cell_type": "code",
   "execution_count": 6,
   "id": "828a88ee",
   "metadata": {},
   "outputs": [
    {
     "data": {
      "text/plain": [
       "id                                                 Valid\n",
       "member_id                                          Valid\n",
       "loan_amnt                                          Valid\n",
       "funded_amnt                                        Valid\n",
       "funded_amnt_inv                                    Valid\n",
       "                                         ...            \n",
       "tax_liens                                          Valid\n",
       "tot_hi_cred_lim                          tot_hi_cred_lim\n",
       "total_bal_ex_mort                      total_bal_ex_mort\n",
       "total_bc_limit                            total_bc_limit\n",
       "total_il_high_credit_limit    total_il_high_credit_limit\n",
       "Length: 111, dtype: object"
      ]
     },
     "execution_count": 6,
     "metadata": {},
     "output_type": "execute_result"
    }
   ],
   "source": [
    "invalid_columns_name"
   ]
  },
  {
   "cell_type": "code",
   "execution_count": 7,
   "id": "a202bf19",
   "metadata": {},
   "outputs": [],
   "source": [
    "df_clean = df.drop(columns=invalid_columns_name[:],errors='ignore')"
   ]
  },
  {
   "cell_type": "code",
   "execution_count": 8,
   "id": "3ea1ff6d",
   "metadata": {},
   "outputs": [
    {
     "name": "stdout",
     "output_type": "stream",
     "text": [
      "<class 'pandas.core.frame.DataFrame'>\n",
      "RangeIndex: 39717 entries, 0 to 39716\n",
      "Data columns (total 57 columns):\n",
      " #   Column                      Non-Null Count  Dtype  \n",
      "---  ------                      --------------  -----  \n",
      " 0   id                          39717 non-null  int64  \n",
      " 1   member_id                   39717 non-null  int64  \n",
      " 2   loan_amnt                   39717 non-null  int64  \n",
      " 3   funded_amnt                 39717 non-null  int64  \n",
      " 4   funded_amnt_inv             39717 non-null  float64\n",
      " 5   term                        39717 non-null  object \n",
      " 6   int_rate                    39717 non-null  object \n",
      " 7   installment                 39717 non-null  float64\n",
      " 8   grade                       39717 non-null  object \n",
      " 9   sub_grade                   39717 non-null  object \n",
      " 10  emp_title                   37258 non-null  object \n",
      " 11  emp_length                  38642 non-null  object \n",
      " 12  home_ownership              39717 non-null  object \n",
      " 13  annual_inc                  39717 non-null  float64\n",
      " 14  verification_status         39717 non-null  object \n",
      " 15  issue_d                     39717 non-null  object \n",
      " 16  loan_status                 39717 non-null  object \n",
      " 17  pymnt_plan                  39717 non-null  object \n",
      " 18  url                         39717 non-null  object \n",
      " 19  desc                        26777 non-null  object \n",
      " 20  purpose                     39717 non-null  object \n",
      " 21  title                       39706 non-null  object \n",
      " 22  zip_code                    39717 non-null  object \n",
      " 23  addr_state                  39717 non-null  object \n",
      " 24  dti                         39717 non-null  float64\n",
      " 25  delinq_2yrs                 39717 non-null  int64  \n",
      " 26  earliest_cr_line            39717 non-null  object \n",
      " 27  inq_last_6mths              39717 non-null  int64  \n",
      " 28  mths_since_last_delinq      14035 non-null  float64\n",
      " 29  mths_since_last_record      2786 non-null   float64\n",
      " 30  open_acc                    39717 non-null  int64  \n",
      " 31  pub_rec                     39717 non-null  int64  \n",
      " 32  revol_bal                   39717 non-null  int64  \n",
      " 33  revol_util                  39667 non-null  object \n",
      " 34  total_acc                   39717 non-null  int64  \n",
      " 35  initial_list_status         39717 non-null  object \n",
      " 36  out_prncp                   39717 non-null  float64\n",
      " 37  out_prncp_inv               39717 non-null  float64\n",
      " 38  total_pymnt                 39717 non-null  float64\n",
      " 39  total_pymnt_inv             39717 non-null  float64\n",
      " 40  total_rec_prncp             39717 non-null  float64\n",
      " 41  total_rec_int               39717 non-null  float64\n",
      " 42  total_rec_late_fee          39717 non-null  float64\n",
      " 43  recoveries                  39717 non-null  float64\n",
      " 44  collection_recovery_fee     39717 non-null  float64\n",
      " 45  last_pymnt_d                39646 non-null  object \n",
      " 46  last_pymnt_amnt             39717 non-null  float64\n",
      " 47  next_pymnt_d                1140 non-null   object \n",
      " 48  last_credit_pull_d          39715 non-null  object \n",
      " 49  collections_12_mths_ex_med  39661 non-null  float64\n",
      " 50  policy_code                 39717 non-null  int64  \n",
      " 51  application_type            39717 non-null  object \n",
      " 52  acc_now_delinq              39717 non-null  int64  \n",
      " 53  chargeoff_within_12_mths    39661 non-null  float64\n",
      " 54  delinq_amnt                 39717 non-null  int64  \n",
      " 55  pub_rec_bankruptcies        39020 non-null  float64\n",
      " 56  tax_liens                   39678 non-null  float64\n",
      "dtypes: float64(20), int64(13), object(24)\n",
      "memory usage: 17.3+ MB\n"
     ]
    },
    {
     "name": "stderr",
     "output_type": "stream",
     "text": [
      "C:\\Users\\Vivek Prahlada\\AppData\\Local\\Temp\\ipykernel_14448\\1282371255.py:1: FutureWarning: null_counts is deprecated. Use show_counts instead\n",
      "  df_clean.info(verbose=True,null_counts=True)\n"
     ]
    }
   ],
   "source": [
    "df_clean.info(verbose=True,null_counts=True)"
   ]
  },
  {
   "cell_type": "markdown",
   "id": "d9c3f001",
   "metadata": {},
   "source": [
    "#### Some of the columns still contains a very high percentage missing values\n",
    "#### Deleting the columns that contains more than 60% missing values"
   ]
  },
  {
   "cell_type": "code",
   "execution_count": 9,
   "id": "e9ef92bb",
   "metadata": {},
   "outputs": [],
   "source": [
    "f = lambda x:x.name if (x.isnull().sum() >= 0.6* x.shape[0]) else 'Valid'"
   ]
  },
  {
   "cell_type": "code",
   "execution_count": 10,
   "id": "ea7bf820",
   "metadata": {},
   "outputs": [],
   "source": [
    "invalid_columns_name = df_clean.apply(f)"
   ]
  },
  {
   "cell_type": "code",
   "execution_count": 11,
   "id": "ac5a50fa",
   "metadata": {},
   "outputs": [
    {
     "data": {
      "text/plain": [
       "id                                             Valid\n",
       "member_id                                      Valid\n",
       "loan_amnt                                      Valid\n",
       "funded_amnt                                    Valid\n",
       "funded_amnt_inv                                Valid\n",
       "term                                           Valid\n",
       "int_rate                                       Valid\n",
       "installment                                    Valid\n",
       "grade                                          Valid\n",
       "sub_grade                                      Valid\n",
       "emp_title                                      Valid\n",
       "emp_length                                     Valid\n",
       "home_ownership                                 Valid\n",
       "annual_inc                                     Valid\n",
       "verification_status                            Valid\n",
       "issue_d                                        Valid\n",
       "loan_status                                    Valid\n",
       "pymnt_plan                                     Valid\n",
       "url                                            Valid\n",
       "desc                                           Valid\n",
       "purpose                                        Valid\n",
       "title                                          Valid\n",
       "zip_code                                       Valid\n",
       "addr_state                                     Valid\n",
       "dti                                            Valid\n",
       "delinq_2yrs                                    Valid\n",
       "earliest_cr_line                               Valid\n",
       "inq_last_6mths                                 Valid\n",
       "mths_since_last_delinq        mths_since_last_delinq\n",
       "mths_since_last_record        mths_since_last_record\n",
       "open_acc                                       Valid\n",
       "pub_rec                                        Valid\n",
       "revol_bal                                      Valid\n",
       "revol_util                                     Valid\n",
       "total_acc                                      Valid\n",
       "initial_list_status                            Valid\n",
       "out_prncp                                      Valid\n",
       "out_prncp_inv                                  Valid\n",
       "total_pymnt                                    Valid\n",
       "total_pymnt_inv                                Valid\n",
       "total_rec_prncp                                Valid\n",
       "total_rec_int                                  Valid\n",
       "total_rec_late_fee                             Valid\n",
       "recoveries                                     Valid\n",
       "collection_recovery_fee                        Valid\n",
       "last_pymnt_d                                   Valid\n",
       "last_pymnt_amnt                                Valid\n",
       "next_pymnt_d                            next_pymnt_d\n",
       "last_credit_pull_d                             Valid\n",
       "collections_12_mths_ex_med                     Valid\n",
       "policy_code                                    Valid\n",
       "application_type                               Valid\n",
       "acc_now_delinq                                 Valid\n",
       "chargeoff_within_12_mths                       Valid\n",
       "delinq_amnt                                    Valid\n",
       "pub_rec_bankruptcies                           Valid\n",
       "tax_liens                                      Valid\n",
       "dtype: object"
      ]
     },
     "execution_count": 11,
     "metadata": {},
     "output_type": "execute_result"
    }
   ],
   "source": [
    "invalid_columns_name"
   ]
  },
  {
   "cell_type": "code",
   "execution_count": 12,
   "id": "2f196eaf",
   "metadata": {},
   "outputs": [],
   "source": [
    "df_clean = df_clean.drop(columns=invalid_columns_name[:],errors='ignore')"
   ]
  },
  {
   "cell_type": "code",
   "execution_count": 13,
   "id": "2505cfc0",
   "metadata": {},
   "outputs": [
    {
     "name": "stdout",
     "output_type": "stream",
     "text": [
      "<class 'pandas.core.frame.DataFrame'>\n",
      "RangeIndex: 39717 entries, 0 to 39716\n",
      "Data columns (total 54 columns):\n",
      " #   Column                      Non-Null Count  Dtype  \n",
      "---  ------                      --------------  -----  \n",
      " 0   id                          39717 non-null  int64  \n",
      " 1   member_id                   39717 non-null  int64  \n",
      " 2   loan_amnt                   39717 non-null  int64  \n",
      " 3   funded_amnt                 39717 non-null  int64  \n",
      " 4   funded_amnt_inv             39717 non-null  float64\n",
      " 5   term                        39717 non-null  object \n",
      " 6   int_rate                    39717 non-null  object \n",
      " 7   installment                 39717 non-null  float64\n",
      " 8   grade                       39717 non-null  object \n",
      " 9   sub_grade                   39717 non-null  object \n",
      " 10  emp_title                   37258 non-null  object \n",
      " 11  emp_length                  38642 non-null  object \n",
      " 12  home_ownership              39717 non-null  object \n",
      " 13  annual_inc                  39717 non-null  float64\n",
      " 14  verification_status         39717 non-null  object \n",
      " 15  issue_d                     39717 non-null  object \n",
      " 16  loan_status                 39717 non-null  object \n",
      " 17  pymnt_plan                  39717 non-null  object \n",
      " 18  url                         39717 non-null  object \n",
      " 19  desc                        26777 non-null  object \n",
      " 20  purpose                     39717 non-null  object \n",
      " 21  title                       39706 non-null  object \n",
      " 22  zip_code                    39717 non-null  object \n",
      " 23  addr_state                  39717 non-null  object \n",
      " 24  dti                         39717 non-null  float64\n",
      " 25  delinq_2yrs                 39717 non-null  int64  \n",
      " 26  earliest_cr_line            39717 non-null  object \n",
      " 27  inq_last_6mths              39717 non-null  int64  \n",
      " 28  open_acc                    39717 non-null  int64  \n",
      " 29  pub_rec                     39717 non-null  int64  \n",
      " 30  revol_bal                   39717 non-null  int64  \n",
      " 31  revol_util                  39667 non-null  object \n",
      " 32  total_acc                   39717 non-null  int64  \n",
      " 33  initial_list_status         39717 non-null  object \n",
      " 34  out_prncp                   39717 non-null  float64\n",
      " 35  out_prncp_inv               39717 non-null  float64\n",
      " 36  total_pymnt                 39717 non-null  float64\n",
      " 37  total_pymnt_inv             39717 non-null  float64\n",
      " 38  total_rec_prncp             39717 non-null  float64\n",
      " 39  total_rec_int               39717 non-null  float64\n",
      " 40  total_rec_late_fee          39717 non-null  float64\n",
      " 41  recoveries                  39717 non-null  float64\n",
      " 42  collection_recovery_fee     39717 non-null  float64\n",
      " 43  last_pymnt_d                39646 non-null  object \n",
      " 44  last_pymnt_amnt             39717 non-null  float64\n",
      " 45  last_credit_pull_d          39715 non-null  object \n",
      " 46  collections_12_mths_ex_med  39661 non-null  float64\n",
      " 47  policy_code                 39717 non-null  int64  \n",
      " 48  application_type            39717 non-null  object \n",
      " 49  acc_now_delinq              39717 non-null  int64  \n",
      " 50  chargeoff_within_12_mths    39661 non-null  float64\n",
      " 51  delinq_amnt                 39717 non-null  int64  \n",
      " 52  pub_rec_bankruptcies        39020 non-null  float64\n",
      " 53  tax_liens                   39678 non-null  float64\n",
      "dtypes: float64(18), int64(13), object(23)\n",
      "memory usage: 16.4+ MB\n"
     ]
    },
    {
     "name": "stderr",
     "output_type": "stream",
     "text": [
      "C:\\Users\\Vivek Prahlada\\AppData\\Local\\Temp\\ipykernel_14448\\1282371255.py:1: FutureWarning: null_counts is deprecated. Use show_counts instead\n",
      "  df_clean.info(verbose=True,null_counts=True)\n"
     ]
    }
   ],
   "source": [
    "df_clean.info(verbose=True,null_counts=True)"
   ]
  },
  {
   "cell_type": "markdown",
   "id": "f6c62396",
   "metadata": {},
   "source": [
    "#### Every person describes the reason for the loan application differently and it is mostly difficult to find the pattern"
   ]
  },
  {
   "cell_type": "code",
   "execution_count": 14,
   "id": "8a8726f2",
   "metadata": {},
   "outputs": [
    {
     "data": {
      "text/plain": [
       "0      Borrower added on 12/22/11 > I need to upgra...\n",
       "1      Borrower added on 12/22/11 > I plan to use t...\n",
       "2                                                  NaN\n",
       "3      Borrower added on 12/21/11 > to pay for prop...\n",
       "4      Borrower added on 12/21/11 > I plan on combi...\n",
       "Name: desc, dtype: object"
      ]
     },
     "execution_count": 14,
     "metadata": {},
     "output_type": "execute_result"
    }
   ],
   "source": [
    "df[\"desc\"].head()"
   ]
  },
  {
   "cell_type": "markdown",
   "id": "eb0f7125",
   "metadata": {},
   "source": [
    "#### URL column doesnt help the analysis. It contains only the web address via the loan application is submitted and it is always through the lending club portal"
   ]
  },
  {
   "cell_type": "code",
   "execution_count": 15,
   "id": "2aa2556f",
   "metadata": {},
   "outputs": [],
   "source": [
    "df_clean.drop(columns=\"url\",inplace=True)"
   ]
  },
  {
   "cell_type": "code",
   "execution_count": 16,
   "id": "6d661e76",
   "metadata": {},
   "outputs": [
    {
     "name": "stderr",
     "output_type": "stream",
     "text": [
      "C:\\Users\\Vivek Prahlada\\AppData\\Local\\Temp\\ipykernel_14448\\1282371255.py:1: FutureWarning: null_counts is deprecated. Use show_counts instead\n",
      "  df_clean.info(verbose=True,null_counts=True)\n"
     ]
    },
    {
     "name": "stdout",
     "output_type": "stream",
     "text": [
      "<class 'pandas.core.frame.DataFrame'>\n",
      "RangeIndex: 39717 entries, 0 to 39716\n",
      "Data columns (total 53 columns):\n",
      " #   Column                      Non-Null Count  Dtype  \n",
      "---  ------                      --------------  -----  \n",
      " 0   id                          39717 non-null  int64  \n",
      " 1   member_id                   39717 non-null  int64  \n",
      " 2   loan_amnt                   39717 non-null  int64  \n",
      " 3   funded_amnt                 39717 non-null  int64  \n",
      " 4   funded_amnt_inv             39717 non-null  float64\n",
      " 5   term                        39717 non-null  object \n",
      " 6   int_rate                    39717 non-null  object \n",
      " 7   installment                 39717 non-null  float64\n",
      " 8   grade                       39717 non-null  object \n",
      " 9   sub_grade                   39717 non-null  object \n",
      " 10  emp_title                   37258 non-null  object \n",
      " 11  emp_length                  38642 non-null  object \n",
      " 12  home_ownership              39717 non-null  object \n",
      " 13  annual_inc                  39717 non-null  float64\n",
      " 14  verification_status         39717 non-null  object \n",
      " 15  issue_d                     39717 non-null  object \n",
      " 16  loan_status                 39717 non-null  object \n",
      " 17  pymnt_plan                  39717 non-null  object \n",
      " 18  desc                        26777 non-null  object \n",
      " 19  purpose                     39717 non-null  object \n",
      " 20  title                       39706 non-null  object \n",
      " 21  zip_code                    39717 non-null  object \n",
      " 22  addr_state                  39717 non-null  object \n",
      " 23  dti                         39717 non-null  float64\n",
      " 24  delinq_2yrs                 39717 non-null  int64  \n",
      " 25  earliest_cr_line            39717 non-null  object \n",
      " 26  inq_last_6mths              39717 non-null  int64  \n",
      " 27  open_acc                    39717 non-null  int64  \n",
      " 28  pub_rec                     39717 non-null  int64  \n",
      " 29  revol_bal                   39717 non-null  int64  \n",
      " 30  revol_util                  39667 non-null  object \n",
      " 31  total_acc                   39717 non-null  int64  \n",
      " 32  initial_list_status         39717 non-null  object \n",
      " 33  out_prncp                   39717 non-null  float64\n",
      " 34  out_prncp_inv               39717 non-null  float64\n",
      " 35  total_pymnt                 39717 non-null  float64\n",
      " 36  total_pymnt_inv             39717 non-null  float64\n",
      " 37  total_rec_prncp             39717 non-null  float64\n",
      " 38  total_rec_int               39717 non-null  float64\n",
      " 39  total_rec_late_fee          39717 non-null  float64\n",
      " 40  recoveries                  39717 non-null  float64\n",
      " 41  collection_recovery_fee     39717 non-null  float64\n",
      " 42  last_pymnt_d                39646 non-null  object \n",
      " 43  last_pymnt_amnt             39717 non-null  float64\n",
      " 44  last_credit_pull_d          39715 non-null  object \n",
      " 45  collections_12_mths_ex_med  39661 non-null  float64\n",
      " 46  policy_code                 39717 non-null  int64  \n",
      " 47  application_type            39717 non-null  object \n",
      " 48  acc_now_delinq              39717 non-null  int64  \n",
      " 49  chargeoff_within_12_mths    39661 non-null  float64\n",
      " 50  delinq_amnt                 39717 non-null  int64  \n",
      " 51  pub_rec_bankruptcies        39020 non-null  float64\n",
      " 52  tax_liens                   39678 non-null  float64\n",
      "dtypes: float64(18), int64(13), object(22)\n",
      "memory usage: 16.1+ MB\n"
     ]
    }
   ],
   "source": [
    "df_clean.info(verbose=True,null_counts=True)"
   ]
  },
  {
   "cell_type": "markdown",
   "id": "03ae512e",
   "metadata": {},
   "source": [
    "#### Lets look at any duplicate entries using IDs or member IDs"
   ]
  },
  {
   "cell_type": "code",
   "execution_count": 17,
   "id": "722c2584",
   "metadata": {},
   "outputs": [
    {
     "data": {
      "text/plain": [
       "0"
      ]
     },
     "execution_count": 17,
     "metadata": {},
     "output_type": "execute_result"
    }
   ],
   "source": [
    "df_clean.id.duplicated().sum()"
   ]
  },
  {
   "cell_type": "code",
   "execution_count": 18,
   "id": "315f74f1",
   "metadata": {},
   "outputs": [
    {
     "data": {
      "text/plain": [
       "0"
      ]
     },
     "execution_count": 18,
     "metadata": {},
     "output_type": "execute_result"
    }
   ],
   "source": [
    "df_clean.member_id.duplicated().sum()"
   ]
  },
  {
   "cell_type": "markdown",
   "id": "8268add7",
   "metadata": {},
   "source": [
    "#### No duplicates found. These are unique IDs and doesn't help in anyways to acheive the objective. Lets drop them from the data frame"
   ]
  },
  {
   "cell_type": "code",
   "execution_count": 19,
   "id": "282dde2c",
   "metadata": {},
   "outputs": [],
   "source": [
    "df_clean.drop(columns=[\"id\",\"member_id\"],inplace=True)"
   ]
  },
  {
   "cell_type": "code",
   "execution_count": 20,
   "id": "5cefbfcf",
   "metadata": {},
   "outputs": [
    {
     "data": {
      "text/plain": [
       "(39717, 51)"
      ]
     },
     "execution_count": 20,
     "metadata": {},
     "output_type": "execute_result"
    }
   ],
   "source": [
    "df_clean.shape"
   ]
  },
  {
   "cell_type": "markdown",
   "id": "cad0aa9a",
   "metadata": {},
   "source": [
    "#### Does collection_recovery_fee column provide any useful information?"
   ]
  },
  {
   "cell_type": "code",
   "execution_count": 21,
   "id": "d017ce9e",
   "metadata": {},
   "outputs": [
    {
     "data": {
      "text/plain": [
       "Charged Off    3782\n",
       "Name: loan_status, dtype: int64"
      ]
     },
     "execution_count": 21,
     "metadata": {},
     "output_type": "execute_result"
    }
   ],
   "source": [
    "df_clean[df_clean[\"collection_recovery_fee\"] > 0].loan_status.value_counts()"
   ]
  },
  {
   "cell_type": "markdown",
   "id": "b5417ea6",
   "metadata": {},
   "source": [
    "#### Values are plausible that collection fee > 0 is always defaulters . Post charge of collection recovery fee doesn't provide any information to find the indicators of defaulters as they are all defaulters. Droping this column as this is redundant information to loan status charged off category"
   ]
  },
  {
   "cell_type": "code",
   "execution_count": 22,
   "id": "fa09849d",
   "metadata": {},
   "outputs": [],
   "source": [
    "df_clean.drop(columns=\"collection_recovery_fee\",inplace=True)"
   ]
  },
  {
   "cell_type": "code",
   "execution_count": 23,
   "id": "eb703bd8",
   "metadata": {},
   "outputs": [
    {
     "data": {
      "text/plain": [
       "(39717, 50)"
      ]
     },
     "execution_count": 23,
     "metadata": {},
     "output_type": "execute_result"
    }
   ],
   "source": [
    "df_clean.shape"
   ]
  },
  {
   "cell_type": "code",
   "execution_count": 24,
   "id": "5091924e",
   "metadata": {},
   "outputs": [],
   "source": [
    "#### Does collections_12_mths_ex_med column provude any useful information?"
   ]
  },
  {
   "cell_type": "code",
   "execution_count": 25,
   "id": "fe818ec9",
   "metadata": {},
   "outputs": [
    {
     "data": {
      "text/plain": [
       "0.0    39661\n",
       "Name: collections_12_mths_ex_med, dtype: int64"
      ]
     },
     "execution_count": 25,
     "metadata": {},
     "output_type": "execute_result"
    }
   ],
   "source": [
    "df_clean.collections_12_mths_ex_med.value_counts()"
   ]
  },
  {
   "cell_type": "markdown",
   "id": "ffc9c073",
   "metadata": {},
   "source": [
    "#### Since all the values are 0 or may be NA, do information can be extracted. Hence it will be droped from the data set"
   ]
  },
  {
   "cell_type": "code",
   "execution_count": 26,
   "id": "ed2f1d1a",
   "metadata": {},
   "outputs": [],
   "source": [
    "df_clean.drop(columns=\"collections_12_mths_ex_med\", inplace=True)"
   ]
  },
  {
   "cell_type": "markdown",
   "id": "ebd3f880",
   "metadata": {},
   "source": [
    "#### Does tax_liens column provide any relevant indications?"
   ]
  },
  {
   "cell_type": "code",
   "execution_count": 27,
   "id": "5d193883",
   "metadata": {},
   "outputs": [
    {
     "data": {
      "text/plain": [
       "0.0    39678\n",
       "Name: tax_liens, dtype: int64"
      ]
     },
     "execution_count": 27,
     "metadata": {},
     "output_type": "execute_result"
    }
   ],
   "source": [
    "df_clean[\"tax_liens\"].value_counts()"
   ]
  },
  {
   "cell_type": "markdown",
   "id": "82910746",
   "metadata": {},
   "source": [
    "#### Data is all 0, entire column will be droped"
   ]
  },
  {
   "cell_type": "code",
   "execution_count": 28,
   "id": "0378d2e0",
   "metadata": {},
   "outputs": [],
   "source": [
    "df_clean.drop(columns=\"tax_liens\",inplace=True)"
   ]
  },
  {
   "cell_type": "code",
   "execution_count": 29,
   "id": "cea2407c",
   "metadata": {},
   "outputs": [
    {
     "data": {
      "text/plain": [
       "(39717, 48)"
      ]
     },
     "execution_count": 29,
     "metadata": {},
     "output_type": "execute_result"
    }
   ],
   "source": [
    "df_clean.shape"
   ]
  },
  {
   "cell_type": "code",
   "execution_count": 30,
   "id": "c70a8c89",
   "metadata": {},
   "outputs": [
    {
     "data": {
      "text/plain": [
       " 36 months    29096\n",
       " 60 months    10621\n",
       "Name: term, dtype: int64"
      ]
     },
     "execution_count": 30,
     "metadata": {},
     "output_type": "execute_result"
    }
   ],
   "source": [
    "df_clean.term.value_counts()"
   ]
  },
  {
   "cell_type": "code",
   "execution_count": 31,
   "id": "63969107",
   "metadata": {},
   "outputs": [
    {
     "data": {
      "text/plain": [
       "US Army                              134\n",
       "Bank of America                      109\n",
       "IBM                                   66\n",
       "AT&T                                  59\n",
       "Kaiser Permanente                     56\n",
       "                                    ... \n",
       "Community College of Philadelphia      1\n",
       "AMEC                                   1\n",
       "lee county sheriff                     1\n",
       "Bacon County Board of Education        1\n",
       "Evergreen Center                       1\n",
       "Name: emp_title, Length: 28820, dtype: int64"
      ]
     },
     "execution_count": 31,
     "metadata": {},
     "output_type": "execute_result"
    }
   ],
   "source": [
    "df_clean[\"emp_title\"].value_counts()"
   ]
  },
  {
   "cell_type": "markdown",
   "id": "7726618f",
   "metadata": {},
   "source": [
    "# Add comments about why the prio 2 variables are not considered for analysis by end of 08/07/2022"
   ]
  },
  {
   "cell_type": "markdown",
   "id": "e7530785",
   "metadata": {},
   "source": [
    "## Univariate analysis"
   ]
  },
  {
   "cell_type": "markdown",
   "id": "9e168aee",
   "metadata": {},
   "source": [
    "#### annual_inc\n",
    "Income of the accepted loan applicant cannot be 0 or high value. Data spread of the income can be checked to know the data"
   ]
  },
  {
   "cell_type": "code",
   "execution_count": 32,
   "id": "c25088d3",
   "metadata": {},
   "outputs": [
    {
     "data": {
      "image/png": "[encoded data removed]",
      "text/plain": [
       "<Figure size 432x288 with 1 Axes>"
      ]
     },
     "metadata": {
      "needs_background": "light"
     },
     "output_type": "display_data"
    }
   ],
   "source": [
    "sns.histplot(df_clean[\"annual_inc\"])\n",
    "plt.show()"
   ]
  },
  {
   "cell_type": "markdown",
   "id": "b750886c",
   "metadata": {},
   "source": [
    "#### seems certain outliers in the data. Lets check the quartiles"
   ]
  },
  {
   "cell_type": "code",
   "execution_count": 33,
   "id": "cededc52",
   "metadata": {},
   "outputs": [
    {
     "data": {
      "text/plain": [
       "count    3.971700e+04\n",
       "mean     6.896893e+04\n",
       "std      6.379377e+04\n",
       "min      4.000000e+03\n",
       "25%      4.040400e+04\n",
       "50%      5.900000e+04\n",
       "75%      8.230000e+04\n",
       "max      6.000000e+06\n",
       "Name: annual_inc, dtype: float64"
      ]
     },
     "execution_count": 33,
     "metadata": {},
     "output_type": "execute_result"
    }
   ],
   "source": [
    "df_clean[\"annual_inc\"].describe()"
   ]
  },
  {
   "cell_type": "markdown",
   "id": "d452fbdd",
   "metadata": {},
   "source": [
    "#### All looks valid values. Person with 600K annual salary wouldnt need loan generally. Considering the median as 59K, 600K seems very high. Lets look at the data distribution for salaries less than 200K"
   ]
  },
  {
   "cell_type": "code",
   "execution_count": 34,
   "id": "d7e7712d",
   "metadata": {},
   "outputs": [
    {
     "data": {
      "text/plain": [
       "count     39131.000000\n",
       "mean      64799.418496\n",
       "std       33700.473800\n",
       "min        4000.000000\n",
       "25%       40000.000000\n",
       "50%       58000.000000\n",
       "75%       80004.000000\n",
       "max      200000.000000\n",
       "Name: annual_inc, dtype: float64"
      ]
     },
     "execution_count": 34,
     "metadata": {},
     "output_type": "execute_result"
    }
   ],
   "source": [
    "df_clean[df_clean[\"annual_inc\"] <=200000].annual_inc.describe()"
   ]
  },
  {
   "cell_type": "code",
   "execution_count": 35,
   "id": "b1e69d99",
   "metadata": {},
   "outputs": [
    {
     "name": "stderr",
     "output_type": "stream",
     "text": [
      "D:\\04_Personal\\UpGrad\\anaconda3\\lib\\site-packages\\seaborn\\_decorators.py:36: FutureWarning: Pass the following variable as a keyword arg: x. From version 0.12, the only valid positional argument will be `data`, and passing other arguments without an explicit keyword will result in an error or misinterpretation.\n",
      "  warnings.warn(\n"
     ]
    },
    {
     "data": {
      "image/png": "[encoded data removed]",
      "text/plain": [
       "<Figure size 432x288 with 1 Axes>"
      ]
     },
     "metadata": {
      "needs_background": "light"
     },
     "output_type": "display_data"
    }
   ],
   "source": [
    "sns.boxplot(df_clean[df_clean[\"annual_inc\"] <=200000].annual_inc)\n",
    "plt.show()"
   ]
  },
  {
   "cell_type": "markdown",
   "id": "07e30fde",
   "metadata": {},
   "source": [
    "#### Looks like we can ignore the entries with annual income > 200 K. Before that lets understand the loan amount issued for the applicants of higher salary"
   ]
  },
  {
   "cell_type": "code",
   "execution_count": 36,
   "id": "b37d4982",
   "metadata": {},
   "outputs": [
    {
     "data": {
      "text/plain": [
       "count      586.000000\n",
       "mean     19370.776451\n",
       "std       9683.917646\n",
       "min       1000.000000\n",
       "25%      12000.000000\n",
       "50%      20000.000000\n",
       "75%      25000.000000\n",
       "max      35000.000000\n",
       "Name: loan_amnt, dtype: float64"
      ]
     },
     "execution_count": 36,
     "metadata": {},
     "output_type": "execute_result"
    }
   ],
   "source": [
    "df_clean[df_clean[\"annual_inc\"] >200000].loan_amnt.describe()"
   ]
  },
  {
   "cell_type": "markdown",
   "id": "8610f414",
   "metadata": {},
   "source": [
    "#### This is not clearly conclusive evidence to remove data. Lets keep them for now"
   ]
  },
  {
   "cell_type": "markdown",
   "id": "84fd880f",
   "metadata": {},
   "source": [
    "#### delinq_2yrs: The number of 30+ days past-due incidences of delinquency in the borrower's credit file for the past 2 years"
   ]
  },
  {
   "cell_type": "code",
   "execution_count": 37,
   "id": "905f3bca",
   "metadata": {},
   "outputs": [
    {
     "data": {
      "text/plain": [
       "count    39717.000000\n",
       "mean         0.146512\n",
       "std          0.491812\n",
       "min          0.000000\n",
       "25%          0.000000\n",
       "50%          0.000000\n",
       "75%          0.000000\n",
       "max         11.000000\n",
       "Name: delinq_2yrs, dtype: float64"
      ]
     },
     "execution_count": 37,
     "metadata": {},
     "output_type": "execute_result"
    }
   ],
   "source": [
    "df_clean[\"delinq_2yrs\"].describe()"
   ]
  },
  {
   "cell_type": "code",
   "execution_count": 38,
   "id": "b997b536",
   "metadata": {},
   "outputs": [
    {
     "data": {
      "image/png": "[encoded data removed]",
      "text/plain": [
       "<Figure size 432x288 with 1 Axes>"
      ]
     },
     "metadata": {
      "needs_background": "light"
     },
     "output_type": "display_data"
    }
   ],
   "source": [
    "sns.countplot(x = df_clean[\"delinq_2yrs\"])\n",
    "plt.show()"
   ]
  },
  {
   "cell_type": "markdown",
   "id": "760dfe5e",
   "metadata": {},
   "source": [
    "#### Lot of no delinquencies in the data, very few applicants have delinquinted 1 time in the last 2 years"
   ]
  },
  {
   "cell_type": "markdown",
   "id": "937f9770",
   "metadata": {},
   "source": [
    "#### delinq_amnt --> The past-due amount owed for the accounts on which the borrower is now delinquent."
   ]
  },
  {
   "cell_type": "code",
   "execution_count": 39,
   "id": "88339d85",
   "metadata": {},
   "outputs": [
    {
     "data": {
      "text/plain": [
       "0    39717\n",
       "Name: delinq_amnt, dtype: int64"
      ]
     },
     "execution_count": 39,
     "metadata": {},
     "output_type": "execute_result"
    }
   ],
   "source": [
    "df_clean[\"delinq_amnt\"].value_counts()"
   ]
  },
  {
   "cell_type": "markdown",
   "id": "fd391376",
   "metadata": {},
   "source": [
    "#### This columns is not filled in the data capture process by LC. No use and hecne shall be dropped from the data frame"
   ]
  },
  {
   "cell_type": "code",
   "execution_count": 40,
   "id": "633567f6",
   "metadata": {},
   "outputs": [],
   "source": [
    "df_clean.drop(columns = \"delinq_amnt\", inplace = True)"
   ]
  },
  {
   "cell_type": "code",
   "execution_count": 41,
   "id": "b6fe9ad4",
   "metadata": {},
   "outputs": [
    {
     "data": {
      "text/plain": [
       "(39717, 47)"
      ]
     },
     "execution_count": 41,
     "metadata": {},
     "output_type": "execute_result"
    }
   ],
   "source": [
    "df_clean.shape"
   ]
  },
  {
   "cell_type": "markdown",
   "id": "735a6637",
   "metadata": {},
   "source": [
    "#### dti (debt to income ratio) --> A ratio calculated using the borrower’s total monthly debt payments on the total debt obligations, excluding mortgage and the requested LC loan, divided by the borrower’s self-reported monthly income."
   ]
  },
  {
   "cell_type": "code",
   "execution_count": 42,
   "id": "ddb19dea",
   "metadata": {},
   "outputs": [
    {
     "name": "stdout",
     "output_type": "stream",
     "text": [
      "<class 'pandas.core.series.Series'>\n",
      "RangeIndex: 39717 entries, 0 to 39716\n",
      "Series name: dti\n",
      "Non-Null Count  Dtype  \n",
      "--------------  -----  \n",
      "39717 non-null  float64\n",
      "dtypes: float64(1)\n",
      "memory usage: 310.4 KB\n"
     ]
    }
   ],
   "source": [
    "df_clean[\"dti\"].info()"
   ]
  },
  {
   "cell_type": "code",
   "execution_count": 43,
   "id": "c91ce369",
   "metadata": {},
   "outputs": [
    {
     "data": {
      "text/plain": [
       "count    39717.000000\n",
       "mean        13.315130\n",
       "std          6.678594\n",
       "min          0.000000\n",
       "25%          8.170000\n",
       "50%         13.400000\n",
       "75%         18.600000\n",
       "max         29.990000\n",
       "Name: dti, dtype: float64"
      ]
     },
     "execution_count": 43,
     "metadata": {},
     "output_type": "execute_result"
    }
   ],
   "source": [
    "df_clean[\"dti\"].describe()"
   ]
  },
  {
   "cell_type": "code",
   "execution_count": 44,
   "id": "c9ecba22",
   "metadata": {},
   "outputs": [
    {
     "data": {
      "image/png": "[encoded data removed]",
      "text/plain": [
       "<Figure size 432x288 with 1 Axes>"
      ]
     },
     "metadata": {
      "needs_background": "light"
     },
     "output_type": "display_data"
    }
   ],
   "source": [
    "sns.histplot(x = df_clean[\"dti\"])\n",
    "plt.show()"
   ]
  },
  {
   "cell_type": "markdown",
   "id": "c7cf7242",
   "metadata": {},
   "source": [
    "#### dti can be 0 when the numerator or denominator is 0. Denominator cannot be 0 (mathematically this leads the infinity) as the loan would not have been processed without any income. Therefore if it is 0, then there must not have been any non mortage loan for that account"
   ]
  },
  {
   "cell_type": "markdown",
   "id": "3c68b6e8",
   "metadata": {},
   "source": [
    "#### Data seems to have normal distribution except after ratio of 25.\n",
    "question? ==> How the ratio be more than 1. This means his monthy debt on existing accounts is more than his income"
   ]
  },
  {
   "cell_type": "markdown",
   "id": "59d0dcb1",
   "metadata": {},
   "source": [
    "#### earliest_cr_line --> The month the borrower's earliest reported credit line was opened"
   ]
  },
  {
   "cell_type": "code",
   "execution_count": 45,
   "id": "282804c1",
   "metadata": {},
   "outputs": [
    {
     "name": "stdout",
     "output_type": "stream",
     "text": [
      "<class 'pandas.core.series.Series'>\n",
      "RangeIndex: 39717 entries, 0 to 39716\n",
      "Series name: earliest_cr_line\n",
      "Non-Null Count  Dtype \n",
      "--------------  ----- \n",
      "39717 non-null  object\n",
      "dtypes: object(1)\n",
      "memory usage: 310.4+ KB\n"
     ]
    }
   ],
   "source": [
    "df_clean[\"earliest_cr_line\"].info()"
   ]
  },
  {
   "cell_type": "code",
   "execution_count": 46,
   "id": "c4dd4a66",
   "metadata": {},
   "outputs": [
    {
     "data": {
      "text/plain": [
       "0    Jan-85\n",
       "1    Apr-99\n",
       "2    Nov-01\n",
       "3    Feb-96\n",
       "4    Jan-96\n",
       "Name: earliest_cr_line, dtype: object"
      ]
     },
     "execution_count": 46,
     "metadata": {},
     "output_type": "execute_result"
    }
   ],
   "source": [
    "df_clean[\"earliest_cr_line\"].head()"
   ]
  },
  {
   "cell_type": "markdown",
   "id": "8d67f776",
   "metadata": {},
   "source": [
    "Make generic code later for the below section"
   ]
  },
  {
   "cell_type": "code",
   "execution_count": 47,
   "id": "369e4a1a",
   "metadata": {},
   "outputs": [],
   "source": [
    "def formating_date(x):\n",
    "    for idx,char in enumerate(x):\n",
    "        if char == '-':\n",
    "            if int(x[idx+1:]) < 22:\n",
    "                return [\"20\"+ x[idx+1:], x[:idx]]\n",
    "            else:\n",
    "                return [\"19\"+ x[idx+1:], x[:idx]]"
   ]
  },
  {
   "cell_type": "code",
   "execution_count": 48,
   "id": "7cf30d5c",
   "metadata": {},
   "outputs": [],
   "source": [
    "year, month = formating_date('jan-85')"
   ]
  },
  {
   "cell_type": "code",
   "execution_count": 49,
   "id": "c8d41b6b",
   "metadata": {},
   "outputs": [
    {
     "data": {
      "text/plain": [
       "'1985'"
      ]
     },
     "execution_count": 49,
     "metadata": {},
     "output_type": "execute_result"
    }
   ],
   "source": [
    "year"
   ]
  },
  {
   "cell_type": "code",
   "execution_count": 50,
   "id": "dbd0461b",
   "metadata": {},
   "outputs": [
    {
     "data": {
      "text/plain": [
       "'jan'"
      ]
     },
     "execution_count": 50,
     "metadata": {},
     "output_type": "execute_result"
    }
   ],
   "source": [
    "month"
   ]
  },
  {
   "cell_type": "code",
   "execution_count": 51,
   "id": "138a471b",
   "metadata": {},
   "outputs": [],
   "source": [
    "df_clean[\"earliest_cr_line_year\"] =  df_clean[\"earliest_cr_line\"].apply(formating_date).str[0]"
   ]
  },
  {
   "cell_type": "code",
   "execution_count": 52,
   "id": "6d3c2194",
   "metadata": {},
   "outputs": [],
   "source": [
    "df_clean[\"earliest_cr_line_mon\"] =  df_clean[\"earliest_cr_line\"].apply(formating_date).str[1]"
   ]
  },
  {
   "cell_type": "code",
   "execution_count": 53,
   "id": "8566cc0e",
   "metadata": {},
   "outputs": [
    {
     "data": {
      "text/plain": [
       "0        Jan\n",
       "1        Apr\n",
       "2        Nov\n",
       "3        Feb\n",
       "4        Jan\n",
       "        ... \n",
       "39712    Nov\n",
       "39713    Dec\n",
       "39714    Oct\n",
       "39715    Nov\n",
       "39716    Oct\n",
       "Name: earliest_cr_line_mon, Length: 39717, dtype: object"
      ]
     },
     "execution_count": 53,
     "metadata": {},
     "output_type": "execute_result"
    }
   ],
   "source": [
    "df_clean[\"earliest_cr_line_mon\"]"
   ]
  },
  {
   "cell_type": "code",
   "execution_count": 54,
   "id": "e61ee067",
   "metadata": {},
   "outputs": [
    {
     "data": {
      "text/plain": [
       "0        1985\n",
       "1        1999\n",
       "2        2001\n",
       "3        1996\n",
       "4        1996\n",
       "         ... \n",
       "39712    1990\n",
       "39713    1986\n",
       "39714    1998\n",
       "39715    1988\n",
       "39716    2003\n",
       "Name: earliest_cr_line_year, Length: 39717, dtype: object"
      ]
     },
     "execution_count": 54,
     "metadata": {},
     "output_type": "execute_result"
    }
   ],
   "source": [
    "df_clean[\"earliest_cr_line_year\"]"
   ]
  },
  {
   "cell_type": "markdown",
   "id": "796eaca2",
   "metadata": {},
   "source": [
    "#### emp_length --> Employment length in years. Possible values are between 0 and 10 where 0 means less than one year and 10 means ten or more years"
   ]
  },
  {
   "cell_type": "code",
   "execution_count": 55,
   "id": "c9f9cb4e",
   "metadata": {},
   "outputs": [
    {
     "name": "stdout",
     "output_type": "stream",
     "text": [
      "<class 'pandas.core.series.Series'>\n",
      "RangeIndex: 39717 entries, 0 to 39716\n",
      "Series name: emp_length\n",
      "Non-Null Count  Dtype \n",
      "--------------  ----- \n",
      "38642 non-null  object\n",
      "dtypes: object(1)\n",
      "memory usage: 310.4+ KB\n"
     ]
    }
   ],
   "source": [
    "df_clean[\"emp_length\"].info()"
   ]
  },
  {
   "cell_type": "code",
   "execution_count": 56,
   "id": "64ec6ed2",
   "metadata": {},
   "outputs": [
    {
     "data": {
      "text/plain": [
       "10+ years    8879\n",
       "< 1 year     4583\n",
       "2 years      4388\n",
       "3 years      4095\n",
       "4 years      3436\n",
       "5 years      3282\n",
       "1 year       3240\n",
       "6 years      2229\n",
       "7 years      1773\n",
       "8 years      1479\n",
       "9 years      1258\n",
       "Name: emp_length, dtype: int64"
      ]
     },
     "execution_count": 56,
     "metadata": {},
     "output_type": "execute_result"
    }
   ],
   "source": [
    "df_clean[\"emp_length\"].value_counts()"
   ]
  },
  {
   "cell_type": "code",
   "execution_count": 57,
   "id": "f1d4c2fd",
   "metadata": {},
   "outputs": [
    {
     "name": "stderr",
     "output_type": "stream",
     "text": [
      "D:\\04_Personal\\UpGrad\\anaconda3\\lib\\site-packages\\seaborn\\_decorators.py:36: FutureWarning: Pass the following variable as a keyword arg: x. From version 0.12, the only valid positional argument will be `data`, and passing other arguments without an explicit keyword will result in an error or misinterpretation.\n",
      "  warnings.warn(\n"
     ]
    },
    {
     "data": {
      "image/png": "[encoded data removed]",
      "text/plain": [
       "<Figure size 432x288 with 1 Axes>"
      ]
     },
     "metadata": {
      "needs_background": "light"
     },
     "output_type": "display_data"
    }
   ],
   "source": [
    "sns.countplot(df_clean[\"emp_length\"])\n",
    "plt.xticks(rotation=90)\n",
    "plt.show()"
   ]
  },
  {
   "cell_type": "markdown",
   "id": "a7bd4339",
   "metadata": {},
   "source": [
    "#### emp_title --> The job title supplied by the Borrower when applying for the loan.*"
   ]
  },
  {
   "cell_type": "code",
   "execution_count": 58,
   "id": "2a001683",
   "metadata": {},
   "outputs": [
    {
     "data": {
      "text/plain": [
       "US Army                           134\n",
       "Bank of America                   109\n",
       "IBM                                66\n",
       "AT&T                               59\n",
       "Kaiser Permanente                  56\n",
       "Wells Fargo                        54\n",
       "USAF                               54\n",
       "UPS                                53\n",
       "US Air Force                       52\n",
       "Walmart                            45\n",
       "Lockheed Martin                    44\n",
       "United States Air Force            42\n",
       "State of California                42\n",
       "U.S. Army                          41\n",
       "Verizon Wireless                   40\n",
       "Self Employed                      40\n",
       "USPS                               39\n",
       "US ARMY                            39\n",
       "Walgreens                          38\n",
       "JP Morgan Chase                    37\n",
       "JPMorgan Chase                     36\n",
       "Department of Defense              36\n",
       "Target                             35\n",
       "US Navy                            35\n",
       "Self                               35\n",
       "Booz Allen Hamilton                34\n",
       "Northrop Grumman                   34\n",
       "United States Army                 33\n",
       "Verizon                            33\n",
       "Best Buy                           32\n",
       "Comcast                            31\n",
       "Accenture                          30\n",
       "Fidelity Investments               30\n",
       "us army                            30\n",
       "United Parcel Service              28\n",
       "Home Depot                         27\n",
       "Social Security Administration     26\n",
       "US Postal Service                  26\n",
       "United States Postal Service       26\n",
       "walmart                            25\n",
       "Wells Fargo Bank                   25\n",
       "self                               24\n",
       "Morgan Stanley                     24\n",
       "Citigroup                          23\n",
       "General Electric                   23\n",
       "Sprint                             22\n",
       "Raytheon                           22\n",
       "Retired                            21\n",
       "American Express                   21\n",
       "Columbia University                21\n",
       "Name: emp_title, dtype: int64"
      ]
     },
     "execution_count": 58,
     "metadata": {},
     "output_type": "execute_result"
    }
   ],
   "source": [
    "df_clean[\"emp_title\"].value_counts().head(50)"
   ]
  },
  {
   "cell_type": "code",
   "execution_count": 59,
   "id": "1f5b98e1",
   "metadata": {},
   "outputs": [],
   "source": [
    "import copy\n",
    "df_temp = copy.deepcopy(df_clean)"
   ]
  },
  {
   "cell_type": "code",
   "execution_count": 60,
   "id": "5d007da2",
   "metadata": {},
   "outputs": [
    {
     "name": "stderr",
     "output_type": "stream",
     "text": [
      "C:\\Users\\Vivek Prahlada\\AppData\\Local\\Temp\\ipykernel_14448\\2392145000.py:1: SettingWithCopyWarning: \n",
      "A value is trying to be set on a copy of a slice from a DataFrame\n",
      "\n",
      "See the caveats in the documentation: https://pandas.pydata.org/pandas-docs/stable/user_guide/indexing.html#returning-a-view-versus-a-copy\n",
      "  df_temp.emp_title[df_temp[\"emp_title\"].isin(['US Army',\"U.S. Army\",\"US ARMY\",\"us army\",\"United States Army\"])] = \"US Army\"\n"
     ]
    }
   ],
   "source": [
    "df_temp.emp_title[df_temp[\"emp_title\"].isin(['US Army',\"U.S. Army\",\"US ARMY\",\"us army\",\"United States Army\"])] = \"US Army\""
   ]
  },
  {
   "cell_type": "code",
   "execution_count": 61,
   "id": "913e9126",
   "metadata": {},
   "outputs": [
    {
     "data": {
      "text/plain": [
       "US Army                            277\n",
       "Bank of America                    109\n",
       "IBM                                 66\n",
       "AT&T                                59\n",
       "Kaiser Permanente                   56\n",
       "Wells Fargo                         54\n",
       "USAF                                54\n",
       "UPS                                 53\n",
       "US Air Force                        52\n",
       "Walmart                             45\n",
       "Lockheed Martin                     44\n",
       "United States Air Force             42\n",
       "State of California                 42\n",
       "Verizon Wireless                    40\n",
       "Self Employed                       40\n",
       "USPS                                39\n",
       "Walgreens                           38\n",
       "JP Morgan Chase                     37\n",
       "Department of Defense               36\n",
       "JPMorgan Chase                      36\n",
       "Target                              35\n",
       "US Navy                             35\n",
       "Self                                35\n",
       "Northrop Grumman                    34\n",
       "Booz Allen Hamilton                 34\n",
       "Verizon                             33\n",
       "Best Buy                            32\n",
       "Comcast                             31\n",
       "Accenture                           30\n",
       "Fidelity Investments                30\n",
       "United Parcel Service               28\n",
       "Home Depot                          27\n",
       "United States Postal Service        26\n",
       "US Postal Service                   26\n",
       "Social Security Administration      26\n",
       "Wells Fargo Bank                    25\n",
       "walmart                             25\n",
       "self                                24\n",
       "Morgan Stanley                      24\n",
       "General Electric                    23\n",
       "Citigroup                           23\n",
       "Raytheon                            22\n",
       "Sprint                              22\n",
       "Department of Homeland Security     21\n",
       "Columbia University                 21\n",
       "American Express                    21\n",
       "Retired                             21\n",
       "Merrill Lynch                       21\n",
       "PricewaterhouseCoopers              20\n",
       "Department of Veterans Affairs      20\n",
       "Name: emp_title, dtype: int64"
      ]
     },
     "execution_count": 61,
     "metadata": {},
     "output_type": "execute_result"
    }
   ],
   "source": [
    "df_temp.emp_title.value_counts().head(50)"
   ]
  },
  {
   "cell_type": "code",
   "execution_count": 62,
   "id": "79789000",
   "metadata": {},
   "outputs": [
    {
     "name": "stderr",
     "output_type": "stream",
     "text": [
      "C:\\Users\\Vivek Prahlada\\AppData\\Local\\Temp\\ipykernel_14448\\686444642.py:1: SettingWithCopyWarning: \n",
      "A value is trying to be set on a copy of a slice from a DataFrame\n",
      "\n",
      "See the caveats in the documentation: https://pandas.pydata.org/pandas-docs/stable/user_guide/indexing.html#returning-a-view-versus-a-copy\n",
      "  df_temp.emp_title[df_temp[\"emp_title\"].isin(['USAF',\"US Air Force\",\"United States Air Force\",\"us army\"])] = \"US Air Force\"\n"
     ]
    }
   ],
   "source": [
    "df_temp.emp_title[df_temp[\"emp_title\"].isin(['USAF',\"US Air Force\",\"United States Air Force\",\"us army\"])] = \"US Air Force\""
   ]
  },
  {
   "cell_type": "code",
   "execution_count": 63,
   "id": "649264ac",
   "metadata": {},
   "outputs": [
    {
     "data": {
      "text/plain": [
       "US Army                            277\n",
       "US Air Force                       148\n",
       "Bank of America                    109\n",
       "IBM                                 66\n",
       "AT&T                                59\n",
       "Kaiser Permanente                   56\n",
       "Wells Fargo                         54\n",
       "UPS                                 53\n",
       "Walmart                             45\n",
       "Lockheed Martin                     44\n",
       "State of California                 42\n",
       "Verizon Wireless                    40\n",
       "Self Employed                       40\n",
       "USPS                                39\n",
       "Walgreens                           38\n",
       "JP Morgan Chase                     37\n",
       "Department of Defense               36\n",
       "JPMorgan Chase                      36\n",
       "Target                              35\n",
       "Self                                35\n",
       "US Navy                             35\n",
       "Booz Allen Hamilton                 34\n",
       "Northrop Grumman                    34\n",
       "Verizon                             33\n",
       "Best Buy                            32\n",
       "Comcast                             31\n",
       "Accenture                           30\n",
       "Fidelity Investments                30\n",
       "United Parcel Service               28\n",
       "Home Depot                          27\n",
       "Social Security Administration      26\n",
       "United States Postal Service        26\n",
       "US Postal Service                   26\n",
       "Wells Fargo Bank                    25\n",
       "walmart                             25\n",
       "self                                24\n",
       "Morgan Stanley                      24\n",
       "Citigroup                           23\n",
       "General Electric                    23\n",
       "Raytheon                            22\n",
       "Sprint                              22\n",
       "Department of Homeland Security     21\n",
       "Columbia University                 21\n",
       "American Express                    21\n",
       "Merrill Lynch                       21\n",
       "Retired                             21\n",
       "PricewaterhouseCoopers              20\n",
       "Department of Veterans Affairs      20\n",
       "General Dynamics                    19\n",
       "SAIC                                19\n",
       "Name: emp_title, dtype: int64"
      ]
     },
     "execution_count": 63,
     "metadata": {},
     "output_type": "execute_result"
    }
   ],
   "source": [
    "df_temp.emp_title.value_counts().head(50)"
   ]
  },
  {
   "cell_type": "code",
   "execution_count": 64,
   "id": "b4a8fd3d",
   "metadata": {},
   "outputs": [
    {
     "name": "stderr",
     "output_type": "stream",
     "text": [
      "C:\\Users\\Vivek Prahlada\\AppData\\Local\\Temp\\ipykernel_14448\\2367621739.py:1: SettingWithCopyWarning: \n",
      "A value is trying to be set on a copy of a slice from a DataFrame\n",
      "\n",
      "See the caveats in the documentation: https://pandas.pydata.org/pandas-docs/stable/user_guide/indexing.html#returning-a-view-versus-a-copy\n",
      "  df_temp.emp_title[df_temp[\"emp_title\"].isin([\"JP Morgan Chase\",\"JPMorgan Chase\"])] = \"JP Morgan Chase\"\n"
     ]
    }
   ],
   "source": [
    "df_temp.emp_title[df_temp[\"emp_title\"].isin([\"JP Morgan Chase\",\"JPMorgan Chase\"])] = \"JP Morgan Chase\""
   ]
  },
  {
   "cell_type": "code",
   "execution_count": 65,
   "id": "334adbed",
   "metadata": {},
   "outputs": [
    {
     "data": {
      "text/plain": [
       "US Army                            277\n",
       "US Air Force                       148\n",
       "Bank of America                    109\n",
       "JP Morgan Chase                     73\n",
       "IBM                                 66\n",
       "AT&T                                59\n",
       "Kaiser Permanente                   56\n",
       "Wells Fargo                         54\n",
       "UPS                                 53\n",
       "Walmart                             45\n",
       "Lockheed Martin                     44\n",
       "State of California                 42\n",
       "Verizon Wireless                    40\n",
       "Self Employed                       40\n",
       "USPS                                39\n",
       "Walgreens                           38\n",
       "Department of Defense               36\n",
       "Target                              35\n",
       "US Navy                             35\n",
       "Self                                35\n",
       "Northrop Grumman                    34\n",
       "Booz Allen Hamilton                 34\n",
       "Verizon                             33\n",
       "Best Buy                            32\n",
       "Comcast                             31\n",
       "Accenture                           30\n",
       "Fidelity Investments                30\n",
       "United Parcel Service               28\n",
       "Home Depot                          27\n",
       "United States Postal Service        26\n",
       "Social Security Administration      26\n",
       "US Postal Service                   26\n",
       "walmart                             25\n",
       "Wells Fargo Bank                    25\n",
       "self                                24\n",
       "Morgan Stanley                      24\n",
       "Citigroup                           23\n",
       "General Electric                    23\n",
       "Raytheon                            22\n",
       "Sprint                              22\n",
       "Merrill Lynch                       21\n",
       "Columbia University                 21\n",
       "Department of Homeland Security     21\n",
       "Retired                             21\n",
       "American Express                    21\n",
       "Department of Veterans Affairs      20\n",
       "PricewaterhouseCoopers              20\n",
       "SAIC                                19\n",
       "General Dynamics                    19\n",
       "Internal Revenue Service            18\n",
       "Name: emp_title, dtype: int64"
      ]
     },
     "execution_count": 65,
     "metadata": {},
     "output_type": "execute_result"
    }
   ],
   "source": [
    "df_temp.emp_title.value_counts().head(50)"
   ]
  },
  {
   "cell_type": "code",
   "execution_count": 66,
   "id": "8aae1f2d",
   "metadata": {},
   "outputs": [
    {
     "name": "stderr",
     "output_type": "stream",
     "text": [
      "C:\\Users\\Vivek Prahlada\\AppData\\Local\\Temp\\ipykernel_14448\\1891788756.py:1: SettingWithCopyWarning: \n",
      "A value is trying to be set on a copy of a slice from a DataFrame\n",
      "\n",
      "See the caveats in the documentation: https://pandas.pydata.org/pandas-docs/stable/user_guide/indexing.html#returning-a-view-versus-a-copy\n",
      "  df_temp.emp_title[df_temp[\"emp_title\"].isin([\"UPS\",\"United Parcel Service\"])] = \"UPS\"\n"
     ]
    }
   ],
   "source": [
    "df_temp.emp_title[df_temp[\"emp_title\"].isin([\"UPS\",\"United Parcel Service\"])] = \"UPS\""
   ]
  },
  {
   "cell_type": "code",
   "execution_count": 67,
   "id": "ccc0a1a6",
   "metadata": {},
   "outputs": [
    {
     "data": {
      "text/plain": [
       "US Army                            277\n",
       "US Air Force                       148\n",
       "Bank of America                    109\n",
       "UPS                                 81\n",
       "JP Morgan Chase                     73\n",
       "IBM                                 66\n",
       "AT&T                                59\n",
       "Kaiser Permanente                   56\n",
       "Wells Fargo                         54\n",
       "Walmart                             45\n",
       "Lockheed Martin                     44\n",
       "State of California                 42\n",
       "Verizon Wireless                    40\n",
       "Self Employed                       40\n",
       "USPS                                39\n",
       "Walgreens                           38\n",
       "Department of Defense               36\n",
       "Target                              35\n",
       "Self                                35\n",
       "US Navy                             35\n",
       "Northrop Grumman                    34\n",
       "Booz Allen Hamilton                 34\n",
       "Verizon                             33\n",
       "Best Buy                            32\n",
       "Comcast                             31\n",
       "Accenture                           30\n",
       "Fidelity Investments                30\n",
       "Home Depot                          27\n",
       "United States Postal Service        26\n",
       "Social Security Administration      26\n",
       "US Postal Service                   26\n",
       "walmart                             25\n",
       "Wells Fargo Bank                    25\n",
       "Morgan Stanley                      24\n",
       "self                                24\n",
       "Citigroup                           23\n",
       "General Electric                    23\n",
       "Raytheon                            22\n",
       "Sprint                              22\n",
       "Merrill Lynch                       21\n",
       "Retired                             21\n",
       "American Express                    21\n",
       "Department of Homeland Security     21\n",
       "Columbia University                 21\n",
       "PricewaterhouseCoopers              20\n",
       "Department of Veterans Affairs      20\n",
       "General Dynamics                    19\n",
       "SAIC                                19\n",
       "US Government                       18\n",
       "Internal Revenue Service            18\n",
       "Name: emp_title, dtype: int64"
      ]
     },
     "execution_count": 67,
     "metadata": {},
     "output_type": "execute_result"
    }
   ],
   "source": [
    "df_temp.emp_title.value_counts().head(50)"
   ]
  },
  {
   "cell_type": "code",
   "execution_count": 68,
   "id": "3e22a935",
   "metadata": {},
   "outputs": [
    {
     "name": "stderr",
     "output_type": "stream",
     "text": [
      "C:\\Users\\Vivek Prahlada\\AppData\\Local\\Temp\\ipykernel_14448\\3955476891.py:1: SettingWithCopyWarning: \n",
      "A value is trying to be set on a copy of a slice from a DataFrame\n",
      "\n",
      "See the caveats in the documentation: https://pandas.pydata.org/pandas-docs/stable/user_guide/indexing.html#returning-a-view-versus-a-copy\n",
      "  df_temp.emp_title[df_temp[\"emp_title\"].isin([\"United States Postal Service\",\"USPS\",\"US Postal Service\",\"usps\"])] = \"USPS\"\n"
     ]
    }
   ],
   "source": [
    "df_temp.emp_title[df_temp[\"emp_title\"].isin([\"United States Postal Service\",\"USPS\",\"US Postal Service\",\"usps\"])] = \"USPS\""
   ]
  },
  {
   "cell_type": "code",
   "execution_count": 69,
   "id": "d7b5ef07",
   "metadata": {},
   "outputs": [
    {
     "data": {
      "text/plain": [
       "US Army                            277\n",
       "US Air Force                       148\n",
       "USPS                               109\n",
       "Bank of America                    109\n",
       "UPS                                 81\n",
       "JP Morgan Chase                     73\n",
       "IBM                                 66\n",
       "AT&T                                59\n",
       "Kaiser Permanente                   56\n",
       "Wells Fargo                         54\n",
       "Walmart                             45\n",
       "Lockheed Martin                     44\n",
       "State of California                 42\n",
       "Verizon Wireless                    40\n",
       "Self Employed                       40\n",
       "Walgreens                           38\n",
       "Department of Defense               36\n",
       "Target                              35\n",
       "US Navy                             35\n",
       "Self                                35\n",
       "Northrop Grumman                    34\n",
       "Booz Allen Hamilton                 34\n",
       "Verizon                             33\n",
       "Best Buy                            32\n",
       "Comcast                             31\n",
       "Accenture                           30\n",
       "Fidelity Investments                30\n",
       "Home Depot                          27\n",
       "Social Security Administration      26\n",
       "Wells Fargo Bank                    25\n",
       "walmart                             25\n",
       "Morgan Stanley                      24\n",
       "self                                24\n",
       "Citigroup                           23\n",
       "General Electric                    23\n",
       "Sprint                              22\n",
       "Raytheon                            22\n",
       "Columbia University                 21\n",
       "American Express                    21\n",
       "Department of Homeland Security     21\n",
       "Merrill Lynch                       21\n",
       "Retired                             21\n",
       "Department of Veterans Affairs      20\n",
       "PricewaterhouseCoopers              20\n",
       "General Dynamics                    19\n",
       "SAIC                                19\n",
       "The Home Depot                      18\n",
       "US Government                       18\n",
       "Internal Revenue Service            18\n",
       "ADP                                 17\n",
       "Name: emp_title, dtype: int64"
      ]
     },
     "execution_count": 69,
     "metadata": {},
     "output_type": "execute_result"
    }
   ],
   "source": [
    "df_temp.emp_title.value_counts().head(50)"
   ]
  },
  {
   "cell_type": "code",
   "execution_count": 70,
   "id": "79bd00cf",
   "metadata": {},
   "outputs": [
    {
     "name": "stderr",
     "output_type": "stream",
     "text": [
      "C:\\Users\\Vivek Prahlada\\AppData\\Local\\Temp\\ipykernel_14448\\3599209681.py:1: SettingWithCopyWarning: \n",
      "A value is trying to be set on a copy of a slice from a DataFrame\n",
      "\n",
      "See the caveats in the documentation: https://pandas.pydata.org/pandas-docs/stable/user_guide/indexing.html#returning-a-view-versus-a-copy\n",
      "  df_temp.emp_title[df_temp[\"emp_title\"].isin([\"Walmart\",\"walmart\"])] = \"Walmart\"\n"
     ]
    }
   ],
   "source": [
    "df_temp.emp_title[df_temp[\"emp_title\"].isin([\"Walmart\",\"walmart\"])] = \"Walmart\""
   ]
  },
  {
   "cell_type": "code",
   "execution_count": 71,
   "id": "25c24e67",
   "metadata": {},
   "outputs": [
    {
     "data": {
      "text/plain": [
       "US Army                            277\n",
       "US Air Force                       148\n",
       "Bank of America                    109\n",
       "USPS                               109\n",
       "UPS                                 81\n",
       "JP Morgan Chase                     73\n",
       "Walmart                             70\n",
       "IBM                                 66\n",
       "AT&T                                59\n",
       "Kaiser Permanente                   56\n",
       "Wells Fargo                         54\n",
       "Lockheed Martin                     44\n",
       "State of California                 42\n",
       "Verizon Wireless                    40\n",
       "Self Employed                       40\n",
       "Walgreens                           38\n",
       "Department of Defense               36\n",
       "US Navy                             35\n",
       "Self                                35\n",
       "Target                              35\n",
       "Booz Allen Hamilton                 34\n",
       "Northrop Grumman                    34\n",
       "Verizon                             33\n",
       "Best Buy                            32\n",
       "Comcast                             31\n",
       "Fidelity Investments                30\n",
       "Accenture                           30\n",
       "Home Depot                          27\n",
       "Social Security Administration      26\n",
       "Wells Fargo Bank                    25\n",
       "Morgan Stanley                      24\n",
       "self                                24\n",
       "Citigroup                           23\n",
       "General Electric                    23\n",
       "Raytheon                            22\n",
       "Sprint                              22\n",
       "American Express                    21\n",
       "Merrill Lynch                       21\n",
       "Columbia University                 21\n",
       "Department of Homeland Security     21\n",
       "Retired                             21\n",
       "PricewaterhouseCoopers              20\n",
       "Department of Veterans Affairs      20\n",
       "General Dynamics                    19\n",
       "SAIC                                19\n",
       "The Home Depot                      18\n",
       "Internal Revenue Service            18\n",
       "US Government                       18\n",
       "United States Navy                  17\n",
       "United States Marine Corps          17\n",
       "Name: emp_title, dtype: int64"
      ]
     },
     "execution_count": 71,
     "metadata": {},
     "output_type": "execute_result"
    }
   ],
   "source": [
    "df_temp.emp_title.value_counts().head(50)"
   ]
  },
  {
   "cell_type": "code",
   "execution_count": 72,
   "id": "522c9f1f",
   "metadata": {},
   "outputs": [
    {
     "name": "stderr",
     "output_type": "stream",
     "text": [
      "C:\\Users\\Vivek Prahlada\\AppData\\Local\\Temp\\ipykernel_14448\\156580220.py:1: SettingWithCopyWarning: \n",
      "A value is trying to be set on a copy of a slice from a DataFrame\n",
      "\n",
      "See the caveats in the documentation: https://pandas.pydata.org/pandas-docs/stable/user_guide/indexing.html#returning-a-view-versus-a-copy\n",
      "  df_temp.emp_title[df_temp[\"emp_title\"].isin([\"United States Navy\",\"US Navy\"])] = \"US Navy\"\n"
     ]
    }
   ],
   "source": [
    "df_temp.emp_title[df_temp[\"emp_title\"].isin([\"United States Navy\",\"US Navy\"])] = \"US Navy\""
   ]
  },
  {
   "cell_type": "code",
   "execution_count": 73,
   "id": "542b22ab",
   "metadata": {},
   "outputs": [
    {
     "data": {
      "text/plain": [
       "US Army                            277\n",
       "US Air Force                       148\n",
       "Bank of America                    109\n",
       "USPS                               109\n",
       "UPS                                 81\n",
       "JP Morgan Chase                     73\n",
       "Walmart                             70\n",
       "IBM                                 66\n",
       "AT&T                                59\n",
       "Kaiser Permanente                   56\n",
       "Wells Fargo                         54\n",
       "US Navy                             52\n",
       "Lockheed Martin                     44\n",
       "State of California                 42\n",
       "Verizon Wireless                    40\n",
       "Self Employed                       40\n",
       "Walgreens                           38\n",
       "Department of Defense               36\n",
       "Target                              35\n",
       "Self                                35\n",
       "Booz Allen Hamilton                 34\n",
       "Northrop Grumman                    34\n",
       "Verizon                             33\n",
       "Best Buy                            32\n",
       "Comcast                             31\n",
       "Accenture                           30\n",
       "Fidelity Investments                30\n",
       "Home Depot                          27\n",
       "Social Security Administration      26\n",
       "Wells Fargo Bank                    25\n",
       "Morgan Stanley                      24\n",
       "self                                24\n",
       "General Electric                    23\n",
       "Citigroup                           23\n",
       "Raytheon                            22\n",
       "Sprint                              22\n",
       "Columbia University                 21\n",
       "Retired                             21\n",
       "Merrill Lynch                       21\n",
       "Department of Homeland Security     21\n",
       "American Express                    21\n",
       "Department of Veterans Affairs      20\n",
       "PricewaterhouseCoopers              20\n",
       "SAIC                                19\n",
       "General Dynamics                    19\n",
       "Internal Revenue Service            18\n",
       "The Home Depot                      18\n",
       "US Government                       18\n",
       "BAE Systems                         17\n",
       "United States Marine Corps          17\n",
       "Name: emp_title, dtype: int64"
      ]
     },
     "execution_count": 73,
     "metadata": {},
     "output_type": "execute_result"
    }
   ],
   "source": [
    "df_temp.emp_title.value_counts().head(50)"
   ]
  },
  {
   "cell_type": "markdown",
   "id": "087eb149",
   "metadata": {},
   "source": [
    "#### home_ownership --> The home ownership status provided by the borrower during registration. Our values are: RENT, OWN, MORTGAGE, OTHER"
   ]
  },
  {
   "cell_type": "code",
   "execution_count": 74,
   "id": "b137c3e5",
   "metadata": {},
   "outputs": [
    {
     "name": "stdout",
     "output_type": "stream",
     "text": [
      "<class 'pandas.core.series.Series'>\n",
      "RangeIndex: 39717 entries, 0 to 39716\n",
      "Series name: home_ownership\n",
      "Non-Null Count  Dtype \n",
      "--------------  ----- \n",
      "39717 non-null  object\n",
      "dtypes: object(1)\n",
      "memory usage: 310.4+ KB\n"
     ]
    }
   ],
   "source": [
    "df_clean[\"home_ownership\"].info()"
   ]
  },
  {
   "cell_type": "code",
   "execution_count": 75,
   "id": "d6c7a61d",
   "metadata": {},
   "outputs": [
    {
     "data": {
      "text/plain": [
       "0    RENT\n",
       "1    RENT\n",
       "2    RENT\n",
       "3    RENT\n",
       "4    RENT\n",
       "Name: home_ownership, dtype: object"
      ]
     },
     "execution_count": 75,
     "metadata": {},
     "output_type": "execute_result"
    }
   ],
   "source": [
    "df_clean[\"home_ownership\"].head()"
   ]
  },
  {
   "cell_type": "code",
   "execution_count": 76,
   "id": "37ae5680",
   "metadata": {},
   "outputs": [
    {
     "data": {
      "image/png": "[encoded data removed]",
      "text/plain": [
       "<Figure size 432x288 with 1 Axes>"
      ]
     },
     "metadata": {
      "needs_background": "light"
     },
     "output_type": "display_data"
    }
   ],
   "source": [
    "sns.countplot(x = df_clean[\"home_ownership\"])\n",
    "plt.show()"
   ]
  },
  {
   "cell_type": "markdown",
   "id": "4bb150e0",
   "metadata": {},
   "source": [
    "Note: Others and none might not give many information"
   ]
  },
  {
   "cell_type": "markdown",
   "id": "dad2a16d",
   "metadata": {},
   "source": [
    "#### inq_last_6mths --> The number of inquiries in past 6 months (excluding auto and mortgage inquiries)"
   ]
  },
  {
   "cell_type": "code",
   "execution_count": 77,
   "id": "324b2ffa",
   "metadata": {},
   "outputs": [
    {
     "data": {
      "text/plain": [
       "count    39717.000000\n",
       "mean         0.869200\n",
       "std          1.070219\n",
       "min          0.000000\n",
       "25%          0.000000\n",
       "50%          1.000000\n",
       "75%          1.000000\n",
       "max          8.000000\n",
       "Name: inq_last_6mths, dtype: float64"
      ]
     },
     "execution_count": 77,
     "metadata": {},
     "output_type": "execute_result"
    }
   ],
   "source": [
    "df_clean[\"inq_last_6mths\"].describe()"
   ]
  },
  {
   "cell_type": "code",
   "execution_count": 78,
   "id": "2813dfb5",
   "metadata": {},
   "outputs": [
    {
     "data": {
      "image/png": "[encoded data removed]",
      "text/plain": [
       "<Figure size 432x288 with 1 Axes>"
      ]
     },
     "metadata": {
      "needs_background": "light"
     },
     "output_type": "display_data"
    }
   ],
   "source": [
    "sns.boxplot(x = df_clean[\"inq_last_6mths\"])\n",
    "plt.show()"
   ]
  },
  {
   "cell_type": "markdown",
   "id": "9553e795",
   "metadata": {},
   "source": [
    "Since the values are only between 0 and 8 in whole data set. This can be used as categorical value and plot the loan status per categoty to understand the pattern. Scatter plot or line plot wouldnt help but a count plot does"
   ]
  },
  {
   "cell_type": "markdown",
   "id": "69b8004d",
   "metadata": {},
   "source": [
    "#### loan_amnt --> The listed amount of the loan applied for by the borrower. If at some point in time, the credit department reduces the loan amount, then it will be reflected in this value."
   ]
  },
  {
   "cell_type": "code",
   "execution_count": 79,
   "id": "5285d5d4",
   "metadata": {},
   "outputs": [
    {
     "name": "stdout",
     "output_type": "stream",
     "text": [
      "<class 'pandas.core.series.Series'>\n",
      "RangeIndex: 39717 entries, 0 to 39716\n",
      "Series name: loan_amnt\n",
      "Non-Null Count  Dtype\n",
      "--------------  -----\n",
      "39717 non-null  int64\n",
      "dtypes: int64(1)\n",
      "memory usage: 310.4 KB\n"
     ]
    }
   ],
   "source": [
    "df_clean[\"loan_amnt\"].info()"
   ]
  },
  {
   "cell_type": "code",
   "execution_count": 80,
   "id": "9212a76f",
   "metadata": {},
   "outputs": [
    {
     "data": {
      "text/plain": [
       "count    39717.000000\n",
       "mean     11219.443815\n",
       "std       7456.670694\n",
       "min        500.000000\n",
       "25%       5500.000000\n",
       "50%      10000.000000\n",
       "75%      15000.000000\n",
       "max      35000.000000\n",
       "Name: loan_amnt, dtype: float64"
      ]
     },
     "execution_count": 80,
     "metadata": {},
     "output_type": "execute_result"
    }
   ],
   "source": [
    "df_clean[\"loan_amnt\"].describe()"
   ]
  },
  {
   "cell_type": "code",
   "execution_count": 81,
   "id": "2f182e0e",
   "metadata": {},
   "outputs": [
    {
     "data": {
      "text/plain": [
       "(array([5033., 9891., 8108., 5121., 4155., 3166., 1228., 1733.,  489.,\n",
       "         793.]),\n",
       " array([  500.,  3950.,  7400., 10850., 14300., 17750., 21200., 24650.,\n",
       "        28100., 31550., 35000.]),\n",
       " <BarContainer object of 10 artists>)"
      ]
     },
     "execution_count": 81,
     "metadata": {},
     "output_type": "execute_result"
    },
    {
     "data": {
      "image/png": "[encoded data removed]",
      "text/plain": [
       "<Figure size 432x288 with 1 Axes>"
      ]
     },
     "metadata": {
      "needs_background": "light"
     },
     "output_type": "display_data"
    }
   ],
   "source": [
    "plt.hist(df_clean[\"loan_amnt\"])"
   ]
  },
  {
   "cell_type": "markdown",
   "id": "3af3fb4c",
   "metadata": {},
   "source": [
    "No outliers. Loans < 15000 are higher in number"
   ]
  },
  {
   "cell_type": "markdown",
   "id": "37805655",
   "metadata": {},
   "source": [
    "#### open_acc --> The number of open credit lines in the borrower's credit file."
   ]
  },
  {
   "cell_type": "code",
   "execution_count": 82,
   "id": "fad658f6",
   "metadata": {},
   "outputs": [
    {
     "name": "stdout",
     "output_type": "stream",
     "text": [
      "<class 'pandas.core.series.Series'>\n",
      "RangeIndex: 39717 entries, 0 to 39716\n",
      "Series name: open_acc\n",
      "Non-Null Count  Dtype\n",
      "--------------  -----\n",
      "39717 non-null  int64\n",
      "dtypes: int64(1)\n",
      "memory usage: 310.4 KB\n"
     ]
    }
   ],
   "source": [
    "df_clean[\"open_acc\"].info()"
   ]
  },
  {
   "cell_type": "code",
   "execution_count": 83,
   "id": "78c392d4",
   "metadata": {},
   "outputs": [
    {
     "data": {
      "text/plain": [
       "count    39717.000000\n",
       "mean         9.294408\n",
       "std          4.400282\n",
       "min          2.000000\n",
       "25%          6.000000\n",
       "50%          9.000000\n",
       "75%         12.000000\n",
       "max         44.000000\n",
       "Name: open_acc, dtype: float64"
      ]
     },
     "execution_count": 83,
     "metadata": {},
     "output_type": "execute_result"
    }
   ],
   "source": [
    "df_clean[\"open_acc\"].describe()"
   ]
  },
  {
   "cell_type": "code",
   "execution_count": 84,
   "id": "a2333a18",
   "metadata": {},
   "outputs": [
    {
     "data": {
      "image/png": "[encoded data removed]",
      "text/plain": [
       "<Figure size 432x288 with 1 Axes>"
      ]
     },
     "metadata": {
      "needs_background": "light"
     },
     "output_type": "display_data"
    }
   ],
   "source": [
    "sns.boxplot(x=df_clean[\"open_acc\"])\n",
    "plt.show()"
   ]
  },
  {
   "cell_type": "code",
   "execution_count": 85,
   "id": "195d88d4",
   "metadata": {},
   "outputs": [
    {
     "data": {
      "text/plain": [
       "<AxesSubplot:xlabel='loan_status', ylabel='open_acc'>"
      ]
     },
     "execution_count": 85,
     "metadata": {},
     "output_type": "execute_result"
    },
    {
     "data": {
      "image/png": "[encoded data removed]",
      "text/plain": [
       "<Figure size 432x288 with 1 Axes>"
      ]
     },
     "metadata": {
      "needs_background": "light"
     },
     "output_type": "display_data"
    }
   ],
   "source": [
    "sns.scatterplot(x=df_clean[\"loan_status\"],y=df_clean[\"open_acc\"])"
   ]
  },
  {
   "cell_type": "code",
   "execution_count": 86,
   "id": "2268f06a",
   "metadata": {},
   "outputs": [
    {
     "data": {
      "text/plain": [
       "Fully Paid     21\n",
       "Charged Off     8\n",
       "Current         1\n",
       "Name: loan_status, dtype: int64"
      ]
     },
     "execution_count": 86,
     "metadata": {},
     "output_type": "execute_result"
    }
   ],
   "source": [
    "df_clean.loan_status[df_clean[\"open_acc\"] > 30].value_counts()"
   ]
  },
  {
   "cell_type": "code",
   "execution_count": 87,
   "id": "b7ca0ed5",
   "metadata": {},
   "outputs": [
    {
     "data": {
      "text/plain": [
       "Fully Paid     11003\n",
       "Charged Off     1824\n",
       "Current          425\n",
       "Name: loan_status, dtype: int64"
      ]
     },
     "execution_count": 87,
     "metadata": {},
     "output_type": "execute_result"
    }
   ],
   "source": [
    "df_clean.loan_status[df_clean[\"open_acc\"] > 10].value_counts()"
   ]
  },
  {
   "cell_type": "markdown",
   "id": "aa1e6d66",
   "metadata": {},
   "source": [
    "Category from the number of open accounts can be made to check the defaulters"
   ]
  },
  {
   "cell_type": "markdown",
   "id": "887ec826",
   "metadata": {},
   "source": [
    "#### total_acc --> The total number of credit lines currently in the borrower's credit file"
   ]
  },
  {
   "cell_type": "code",
   "execution_count": 88,
   "id": "85e18e21",
   "metadata": {},
   "outputs": [
    {
     "data": {
      "text/plain": [
       "0.6866347211191632"
      ]
     },
     "execution_count": 88,
     "metadata": {},
     "output_type": "execute_result"
    }
   ],
   "source": [
    "df_clean[\"open_acc\"].corr(df_clean[\"total_acc\"])"
   ]
  },
  {
   "cell_type": "code",
   "execution_count": 89,
   "id": "3e04c06b",
   "metadata": {},
   "outputs": [
    {
     "data": {
      "text/plain": [
       "<AxesSubplot:xlabel='loan_status', ylabel='total_acc'>"
      ]
     },
     "execution_count": 89,
     "metadata": {},
     "output_type": "execute_result"
    },
    {
     "data": {
      "image/png": "[encoded data removed]",
      "text/plain": [
       "<Figure size 432x288 with 1 Axes>"
      ]
     },
     "metadata": {
      "needs_background": "light"
     },
     "output_type": "display_data"
    }
   ],
   "source": [
    "sns.scatterplot(x=df_clean[\"loan_status\"],y=df_clean[\"total_acc\"])"
   ]
  },
  {
   "cell_type": "code",
   "execution_count": 90,
   "id": "f9be49b5",
   "metadata": {},
   "outputs": [
    {
     "data": {
      "text/plain": [
       "Fully Paid     7035\n",
       "Charged Off    1149\n",
       "Current         268\n",
       "Name: loan_status, dtype: int64"
      ]
     },
     "execution_count": 90,
     "metadata": {},
     "output_type": "execute_result"
    }
   ],
   "source": [
    "df_clean.loan_status[df_clean[\"total_acc\"] > 30].value_counts()"
   ]
  },
  {
   "cell_type": "markdown",
   "id": "ae71fb79",
   "metadata": {},
   "source": [
    "#### pub_rec --> Number of derogatory public records"
   ]
  },
  {
   "cell_type": "code",
   "execution_count": 91,
   "id": "50441b81",
   "metadata": {},
   "outputs": [
    {
     "name": "stdout",
     "output_type": "stream",
     "text": [
      "<class 'pandas.core.series.Series'>\n",
      "RangeIndex: 39717 entries, 0 to 39716\n",
      "Series name: pub_rec\n",
      "Non-Null Count  Dtype\n",
      "--------------  -----\n",
      "39717 non-null  int64\n",
      "dtypes: int64(1)\n",
      "memory usage: 310.4 KB\n"
     ]
    }
   ],
   "source": [
    "df_clean[\"pub_rec\"].info()"
   ]
  },
  {
   "cell_type": "code",
   "execution_count": 92,
   "id": "2fc258d1",
   "metadata": {},
   "outputs": [
    {
     "data": {
      "text/plain": [
       "count    39717.000000\n",
       "mean         0.055065\n",
       "std          0.237200\n",
       "min          0.000000\n",
       "25%          0.000000\n",
       "50%          0.000000\n",
       "75%          0.000000\n",
       "max          4.000000\n",
       "Name: pub_rec, dtype: float64"
      ]
     },
     "execution_count": 92,
     "metadata": {},
     "output_type": "execute_result"
    }
   ],
   "source": [
    "df_clean[\"pub_rec\"].describe()"
   ]
  },
  {
   "cell_type": "code",
   "execution_count": 93,
   "id": "f9b739ed",
   "metadata": {},
   "outputs": [
    {
     "data": {
      "text/plain": [
       "0    37601\n",
       "1     2056\n",
       "2       51\n",
       "3        7\n",
       "4        2\n",
       "Name: pub_rec, dtype: int64"
      ]
     },
     "execution_count": 93,
     "metadata": {},
     "output_type": "execute_result"
    }
   ],
   "source": [
    "df_clean[\"pub_rec\"].value_counts()"
   ]
  },
  {
   "cell_type": "markdown",
   "id": "827ce6b9",
   "metadata": {},
   "source": [
    "Since the public records are very less between 2 and 3 value, both can be conbimed to make in total three categories --> No record, single record, multiple record"
   ]
  },
  {
   "cell_type": "markdown",
   "id": "daf388d7",
   "metadata": {},
   "source": [
    "#### pub_rec_bankruptcies --> Number of public record bankruptcies"
   ]
  },
  {
   "cell_type": "code",
   "execution_count": 94,
   "id": "b42f8123",
   "metadata": {},
   "outputs": [
    {
     "name": "stdout",
     "output_type": "stream",
     "text": [
      "<class 'pandas.core.series.Series'>\n",
      "RangeIndex: 39717 entries, 0 to 39716\n",
      "Series name: pub_rec_bankruptcies\n",
      "Non-Null Count  Dtype  \n",
      "--------------  -----  \n",
      "39020 non-null  float64\n",
      "dtypes: float64(1)\n",
      "memory usage: 310.4 KB\n"
     ]
    }
   ],
   "source": [
    "df_clean[\"pub_rec_bankruptcies\"].info()"
   ]
  },
  {
   "cell_type": "code",
   "execution_count": 95,
   "id": "c2d885ac",
   "metadata": {},
   "outputs": [
    {
     "data": {
      "text/plain": [
       "count    39020.000000\n",
       "mean         0.043260\n",
       "std          0.204324\n",
       "min          0.000000\n",
       "25%          0.000000\n",
       "50%          0.000000\n",
       "75%          0.000000\n",
       "max          2.000000\n",
       "Name: pub_rec_bankruptcies, dtype: float64"
      ]
     },
     "execution_count": 95,
     "metadata": {},
     "output_type": "execute_result"
    }
   ],
   "source": [
    "df_clean[\"pub_rec_bankruptcies\"].describe()"
   ]
  },
  {
   "cell_type": "code",
   "execution_count": 96,
   "id": "14a179fd",
   "metadata": {},
   "outputs": [
    {
     "data": {
      "text/plain": [
       "0.0    37339\n",
       "1.0     1674\n",
       "2.0        7\n",
       "Name: pub_rec_bankruptcies, dtype: int64"
      ]
     },
     "execution_count": 96,
     "metadata": {},
     "output_type": "execute_result"
    }
   ],
   "source": [
    "df_clean[\"pub_rec_bankruptcies\"].value_counts()"
   ]
  },
  {
   "cell_type": "markdown",
   "id": "f049753d",
   "metadata": {},
   "source": [
    "Two cateogories can be made --> No record, record"
   ]
  },
  {
   "cell_type": "markdown",
   "id": "82f21c4e",
   "metadata": {},
   "source": [
    "#### purpose --> A category provided by the borrower for the loan request. "
   ]
  },
  {
   "cell_type": "code",
   "execution_count": 97,
   "id": "40c87d82",
   "metadata": {},
   "outputs": [
    {
     "name": "stdout",
     "output_type": "stream",
     "text": [
      "<class 'pandas.core.series.Series'>\n",
      "RangeIndex: 39717 entries, 0 to 39716\n",
      "Series name: purpose\n",
      "Non-Null Count  Dtype \n",
      "--------------  ----- \n",
      "39717 non-null  object\n",
      "dtypes: object(1)\n",
      "memory usage: 310.4+ KB\n"
     ]
    }
   ],
   "source": [
    "df_clean[\"purpose\"].info()"
   ]
  },
  {
   "cell_type": "code",
   "execution_count": 98,
   "id": "fcea267d",
   "metadata": {},
   "outputs": [
    {
     "data": {
      "text/plain": [
       "debt_consolidation    18641\n",
       "credit_card            5130\n",
       "other                  3993\n",
       "home_improvement       2976\n",
       "major_purchase         2187\n",
       "small_business         1828\n",
       "car                    1549\n",
       "wedding                 947\n",
       "medical                 693\n",
       "moving                  583\n",
       "vacation                381\n",
       "house                   381\n",
       "educational             325\n",
       "renewable_energy        103\n",
       "Name: purpose, dtype: int64"
      ]
     },
     "execution_count": 98,
     "metadata": {},
     "output_type": "execute_result"
    }
   ],
   "source": [
    "df_clean[\"purpose\"].value_counts()"
   ]
  },
  {
   "cell_type": "markdown",
   "id": "7174c4d2",
   "metadata": {},
   "source": [
    "Good categorical variable"
   ]
  },
  {
   "cell_type": "code",
   "execution_count": 99,
   "id": "55a5cba7",
   "metadata": {},
   "outputs": [],
   "source": [
    "?sns.countplot"
   ]
  },
  {
   "cell_type": "code",
   "execution_count": 100,
   "id": "6c7c1602",
   "metadata": {},
   "outputs": [
    {
     "data": {
      "image/png": "[encoded data removed]",
      "text/plain": [
       "<Figure size 1440x720 with 1 Axes>"
      ]
     },
     "metadata": {
      "needs_background": "light"
     },
     "output_type": "display_data"
    }
   ],
   "source": [
    "plt.figure(figsize=(20,10))\n",
    "sns.countplot(hue=df_clean[\"loan_status\"],x=df_clean[\"purpose\"])\n",
    "plt.xticks(rotation=90)\n",
    "plt.show()"
   ]
  },
  {
   "cell_type": "markdown",
   "id": "e47e1539",
   "metadata": {},
   "source": [
    "#### pymnt_plan --> Indicates if a payment plan has been put in place for the loan"
   ]
  },
  {
   "cell_type": "code",
   "execution_count": 101,
   "id": "6fbccb6a",
   "metadata": {},
   "outputs": [
    {
     "name": "stdout",
     "output_type": "stream",
     "text": [
      "<class 'pandas.core.series.Series'>\n",
      "RangeIndex: 39717 entries, 0 to 39716\n",
      "Series name: pymnt_plan\n",
      "Non-Null Count  Dtype \n",
      "--------------  ----- \n",
      "39717 non-null  object\n",
      "dtypes: object(1)\n",
      "memory usage: 310.4+ KB\n"
     ]
    }
   ],
   "source": [
    "df_clean[\"pymnt_plan\"].info()"
   ]
  },
  {
   "cell_type": "code",
   "execution_count": 102,
   "id": "b14a49bc",
   "metadata": {},
   "outputs": [
    {
     "data": {
      "text/plain": [
       "count     39717\n",
       "unique        1\n",
       "top           n\n",
       "freq      39717\n",
       "Name: pymnt_plan, dtype: object"
      ]
     },
     "execution_count": 102,
     "metadata": {},
     "output_type": "execute_result"
    }
   ],
   "source": [
    "df_clean[\"pymnt_plan\"].describe()"
   ]
  },
  {
   "cell_type": "code",
   "execution_count": 103,
   "id": "67214563",
   "metadata": {},
   "outputs": [
    {
     "data": {
      "text/plain": [
       "n    39717\n",
       "Name: pymnt_plan, dtype: int64"
      ]
     },
     "execution_count": 103,
     "metadata": {},
     "output_type": "execute_result"
    }
   ],
   "source": [
    "df_clean[\"pymnt_plan\"].value_counts()"
   ]
  },
  {
   "cell_type": "markdown",
   "id": "9b608d42",
   "metadata": {},
   "source": [
    "This column is not useful and hence shall be dropped"
   ]
  },
  {
   "cell_type": "code",
   "execution_count": 104,
   "id": "78078a62",
   "metadata": {},
   "outputs": [],
   "source": [
    "df_clean.drop(columns=\"pymnt_plan\",inplace=True)"
   ]
  },
  {
   "cell_type": "code",
   "execution_count": 105,
   "id": "89b3b79a",
   "metadata": {},
   "outputs": [
    {
     "data": {
      "text/plain": [
       "(39717, 48)"
      ]
     },
     "execution_count": 105,
     "metadata": {},
     "output_type": "execute_result"
    }
   ],
   "source": [
    "df_clean.shape"
   ]
  },
  {
   "cell_type": "markdown",
   "id": "8ff2e8ef",
   "metadata": {},
   "source": [
    "#### revol_bal --> Total credit revolving balance"
   ]
  },
  {
   "cell_type": "code",
   "execution_count": 106,
   "id": "295c7362",
   "metadata": {},
   "outputs": [
    {
     "name": "stdout",
     "output_type": "stream",
     "text": [
      "<class 'pandas.core.series.Series'>\n",
      "RangeIndex: 39717 entries, 0 to 39716\n",
      "Series name: revol_bal\n",
      "Non-Null Count  Dtype\n",
      "--------------  -----\n",
      "39717 non-null  int64\n",
      "dtypes: int64(1)\n",
      "memory usage: 310.4 KB\n"
     ]
    }
   ],
   "source": [
    "df_clean[\"revol_bal\"].info()"
   ]
  },
  {
   "cell_type": "code",
   "execution_count": 107,
   "id": "e6935b41",
   "metadata": {},
   "outputs": [
    {
     "data": {
      "text/plain": [
       "count     39717.000000\n",
       "mean      13382.528086\n",
       "std       15885.016641\n",
       "min           0.000000\n",
       "25%        3703.000000\n",
       "50%        8850.000000\n",
       "75%       17058.000000\n",
       "max      149588.000000\n",
       "Name: revol_bal, dtype: float64"
      ]
     },
     "execution_count": 107,
     "metadata": {},
     "output_type": "execute_result"
    }
   ],
   "source": [
    "df_clean[\"revol_bal\"].describe()"
   ]
  },
  {
   "cell_type": "code",
   "execution_count": 108,
   "id": "f411872b",
   "metadata": {},
   "outputs": [
    {
     "data": {
      "image/png": "[encoded data removed]",
      "text/plain": [
       "<Figure size 432x288 with 1 Axes>"
      ]
     },
     "metadata": {
      "needs_background": "light"
     },
     "output_type": "display_data"
    }
   ],
   "source": [
    "sns.boxplot(x=df_clean[\"revol_bal\"])\n",
    "plt.show()"
   ]
  },
  {
   "cell_type": "code",
   "execution_count": 109,
   "id": "20dabde4",
   "metadata": {},
   "outputs": [
    {
     "data": {
      "image/png": "[encoded data removed]",
      "text/plain": [
       "<Figure size 432x288 with 1 Axes>"
      ]
     },
     "metadata": {
      "needs_background": "light"
     },
     "output_type": "display_data"
    }
   ],
   "source": [
    "plt.hist(df_clean[\"revol_bal\"])\n",
    "plt.show()"
   ]
  },
  {
   "cell_type": "markdown",
   "id": "ec6b07b0",
   "metadata": {},
   "source": [
    "Looks like there are outliers, effect of these outliers on the analysis is not known. I plan to keep it at this moment"
   ]
  },
  {
   "cell_type": "code",
   "execution_count": 110,
   "id": "d48ae2e2",
   "metadata": {},
   "outputs": [
    {
     "data": {
      "text/plain": [
       "<AxesSubplot:xlabel='loan_status', ylabel='revol_bal'>"
      ]
     },
     "execution_count": 110,
     "metadata": {},
     "output_type": "execute_result"
    },
    {
     "data": {
      "image/png": "[encoded data removed]",
      "text/plain": [
       "<Figure size 432x288 with 1 Axes>"
      ]
     },
     "metadata": {
      "needs_background": "light"
     },
     "output_type": "display_data"
    }
   ],
   "source": [
    "sns.scatterplot(x=df_clean[\"loan_status\"],y=df_clean[\"revol_bal\"])"
   ]
  },
  {
   "cell_type": "markdown",
   "id": "fb8523f3",
   "metadata": {},
   "source": [
    "categoties of different revolving balance range can be made"
   ]
  },
  {
   "cell_type": "markdown",
   "id": "8282c617",
   "metadata": {},
   "source": [
    "#### revol_util --> Revolving line utilization rate, or the amount of credit the borrower is using relative to all available revolving credit."
   ]
  },
  {
   "cell_type": "code",
   "execution_count": 111,
   "id": "fe2d5fd0",
   "metadata": {},
   "outputs": [
    {
     "name": "stdout",
     "output_type": "stream",
     "text": [
      "<class 'pandas.core.series.Series'>\n",
      "RangeIndex: 39717 entries, 0 to 39716\n",
      "Series name: revol_util\n",
      "Non-Null Count  Dtype \n",
      "--------------  ----- \n",
      "39667 non-null  object\n",
      "dtypes: object(1)\n",
      "memory usage: 310.4+ KB\n"
     ]
    }
   ],
   "source": [
    "df_clean[\"revol_util\"].info()"
   ]
  },
  {
   "cell_type": "code",
   "execution_count": 112,
   "id": "dee4a857",
   "metadata": {},
   "outputs": [
    {
     "data": {
      "text/plain": [
       "count     39667\n",
       "unique     1089\n",
       "top          0%\n",
       "freq        977\n",
       "Name: revol_util, dtype: object"
      ]
     },
     "execution_count": 112,
     "metadata": {},
     "output_type": "execute_result"
    }
   ],
   "source": [
    "df_clean[\"revol_util\"].describe()"
   ]
  },
  {
   "cell_type": "code",
   "execution_count": 113,
   "id": "dcd4625c",
   "metadata": {},
   "outputs": [
    {
     "data": {
      "text/plain": [
       "0    83.70%\n",
       "1     9.40%\n",
       "2    98.50%\n",
       "3       21%\n",
       "4    53.90%\n",
       "Name: revol_util, dtype: object"
      ]
     },
     "execution_count": 113,
     "metadata": {},
     "output_type": "execute_result"
    }
   ],
   "source": [
    "df_clean[\"revol_util\"].head()"
   ]
  },
  {
   "cell_type": "markdown",
   "id": "a6245026",
   "metadata": {},
   "source": [
    "Removal of % char int the column to make it numerical"
   ]
  },
  {
   "cell_type": "code",
   "execution_count": 114,
   "id": "e8da42e0",
   "metadata": {},
   "outputs": [],
   "source": [
    "df_clean = df_clean[~(df_clean[\"funded_amnt_inv\"] ==  6592.91596)]"
   ]
  },
  {
   "cell_type": "code",
   "execution_count": 115,
   "id": "c8c5bb35",
   "metadata": {},
   "outputs": [],
   "source": [
    "df_clean[\"revol_util\"] = df_clean[\"revol_util\"].astype(str).apply(lambda x:x[0:-1])"
   ]
  },
  {
   "cell_type": "markdown",
   "id": "5c89e96c",
   "metadata": {},
   "source": [
    "Since the NA values are less it is imputed with the mode value of the data"
   ]
  },
  {
   "cell_type": "code",
   "execution_count": 116,
   "id": "2a18c221",
   "metadata": {},
   "outputs": [],
   "source": [
    "df_clean[\"revol_util\"] = df_clean[\"revol_util\"].apply(lambda x: 0.0 if x=='na' else float(x))"
   ]
  },
  {
   "cell_type": "code",
   "execution_count": 117,
   "id": "d1f73afc",
   "metadata": {},
   "outputs": [
    {
     "data": {
      "text/plain": [
       "count    39716.000000\n",
       "mean        48.771258\n",
       "std         28.367810\n",
       "min          0.000000\n",
       "25%         25.300000\n",
       "50%         49.200000\n",
       "75%         72.300000\n",
       "max         99.900000\n",
       "Name: revol_util, dtype: float64"
      ]
     },
     "execution_count": 117,
     "metadata": {},
     "output_type": "execute_result"
    }
   ],
   "source": [
    "df_clean[\"revol_util\"].describe()"
   ]
  },
  {
   "cell_type": "markdown",
   "id": "cc2dad5d",
   "metadata": {},
   "source": [
    "#### sub_grade --> LC assigned loan subgrade"
   ]
  },
  {
   "cell_type": "code",
   "execution_count": 118,
   "id": "7cf70982",
   "metadata": {},
   "outputs": [
    {
     "name": "stdout",
     "output_type": "stream",
     "text": [
      "<class 'pandas.core.series.Series'>\n",
      "Int64Index: 39716 entries, 0 to 39716\n",
      "Series name: sub_grade\n",
      "Non-Null Count  Dtype \n",
      "--------------  ----- \n",
      "39716 non-null  object\n",
      "dtypes: object(1)\n",
      "memory usage: 620.6+ KB\n"
     ]
    }
   ],
   "source": [
    "df_clean[\"sub_grade\"].info()"
   ]
  },
  {
   "cell_type": "code",
   "execution_count": 119,
   "id": "96656d7a",
   "metadata": {},
   "outputs": [
    {
     "data": {
      "image/png": "[encoded data removed]",
      "text/plain": [
       "<Figure size 1440x720 with 1 Axes>"
      ]
     },
     "metadata": {
      "needs_background": "light"
     },
     "output_type": "display_data"
    }
   ],
   "source": [
    "order=[\"A1\",\"A2\",\"A3\",\"A4\",\"A5\",\n",
    "      \"B1\",\"B2\",\"B3\",\"B4\",\"B5\",\n",
    "      \"C1\",\"C2\",\"C3\",\"C4\",\"C5\",\n",
    "      \"D1\",\"D2\",\"D3\",\"D4\",\"D5\",\n",
    "      \"E1\",\"E2\",\"E3\",\"E4\",\"E5\",\n",
    "      \"F1\",\"F2\",\"F3\",\"F4\",\"F5\",\n",
    "      \"G1\",\"G2\",\"G3\",\"G4\",\"G5\"]\n",
    "plt.figure(figsize=(20,10))\n",
    "sns.countplot(x=df_clean[\"sub_grade\"],order=order)\n",
    "plt.show()"
   ]
  },
  {
   "cell_type": "markdown",
   "id": "9f95ca20",
   "metadata": {},
   "source": [
    "No outliers, Good categorical variable for bi-variate analysis"
   ]
  },
  {
   "cell_type": "markdown",
   "id": "9d070399",
   "metadata": {},
   "source": [
    "#### term --> The number of payments on the loan. Values are in months and can be either 36 or 60."
   ]
  },
  {
   "cell_type": "code",
   "execution_count": 120,
   "id": "490723d8",
   "metadata": {},
   "outputs": [
    {
     "name": "stdout",
     "output_type": "stream",
     "text": [
      "<class 'pandas.core.series.Series'>\n",
      "Int64Index: 39716 entries, 0 to 39716\n",
      "Series name: term\n",
      "Non-Null Count  Dtype \n",
      "--------------  ----- \n",
      "39716 non-null  object\n",
      "dtypes: object(1)\n",
      "memory usage: 620.6+ KB\n"
     ]
    }
   ],
   "source": [
    "df_clean[\"term\"].info()"
   ]
  },
  {
   "cell_type": "code",
   "execution_count": 121,
   "id": "b5ad0479",
   "metadata": {},
   "outputs": [
    {
     "data": {
      "text/plain": [
       " 36 months    29095\n",
       " 60 months    10621\n",
       "Name: term, dtype: int64"
      ]
     },
     "execution_count": 121,
     "metadata": {},
     "output_type": "execute_result"
    }
   ],
   "source": [
    "df_clean[\"term\"].value_counts()"
   ]
  },
  {
   "cell_type": "markdown",
   "id": "63f769fd",
   "metadata": {},
   "source": [
    "No further analysis is required for this variable in unvariate analysis"
   ]
  },
  {
   "cell_type": "markdown",
   "id": "1227b05f",
   "metadata": {},
   "source": [
    "#### verification_status --> Indicates if income was verified by LC, not verified, or if the income source was verified"
   ]
  },
  {
   "cell_type": "code",
   "execution_count": 122,
   "id": "01fcdb4f",
   "metadata": {},
   "outputs": [
    {
     "name": "stdout",
     "output_type": "stream",
     "text": [
      "<class 'pandas.core.series.Series'>\n",
      "Int64Index: 39716 entries, 0 to 39716\n",
      "Series name: verification_status\n",
      "Non-Null Count  Dtype \n",
      "--------------  ----- \n",
      "39716 non-null  object\n",
      "dtypes: object(1)\n",
      "memory usage: 620.6+ KB\n"
     ]
    }
   ],
   "source": [
    "df_clean[\"verification_status\"].info()"
   ]
  },
  {
   "cell_type": "code",
   "execution_count": 123,
   "id": "973919c3",
   "metadata": {},
   "outputs": [
    {
     "data": {
      "text/plain": [
       "count            39716\n",
       "unique               3\n",
       "top       Not Verified\n",
       "freq             16921\n",
       "Name: verification_status, dtype: object"
      ]
     },
     "execution_count": 123,
     "metadata": {},
     "output_type": "execute_result"
    }
   ],
   "source": [
    "df_clean[\"verification_status\"].describe()"
   ]
  },
  {
   "cell_type": "code",
   "execution_count": 124,
   "id": "eab6f07a",
   "metadata": {},
   "outputs": [
    {
     "data": {
      "image/png": "[encoded data removed]",
      "text/plain": [
       "<Figure size 432x288 with 1 Axes>"
      ]
     },
     "metadata": {
      "needs_background": "light"
     },
     "output_type": "display_data"
    }
   ],
   "source": [
    "sns.countplot(x=df_clean[\"verification_status\"])\n",
    "plt.show()"
   ]
  },
  {
   "cell_type": "markdown",
   "id": "28ca460f",
   "metadata": {},
   "source": [
    "## Bi-variate analysis"
   ]
  },
  {
   "cell_type": "markdown",
   "id": "b45aa233",
   "metadata": {},
   "source": [
    "Since all the target variable is \"loan_status\", focus will be to understand the other dimension of the data against loan_status"
   ]
  },
  {
   "cell_type": "markdown",
   "id": "c20ab774",
   "metadata": {},
   "source": [
    "#### annual_inc vs loan_status"
   ]
  },
  {
   "cell_type": "markdown",
   "id": "612abdb8",
   "metadata": {},
   "source": [
    "From univariate analysis of annual_inc : It is a continuous variable and cannot be directly compared with categorical loan_status variable. Hence categories of annual income can be made first before comparison\n",
    "L, M, H & VH categories can be made. Range of the variable is ~ 40k till 600k, with 75 percentile around 82k, below rages are assigned to categories\n",
    "\n",
    "<= 25 percentile --> L\n",
    "\n",
    "<= 50 and > 25 percentile --> M\n",
    "\n",
    "<= 75 and > 50 percentile --> H\n",
    "\n",
    "<= 100 and > 75 percentile --> VH\n",
    "\n",
    "Assumption: With this approach of categorization, all the category will have roughly same numer of data points which may make the analysis easier"
   ]
  },
  {
   "cell_type": "code",
   "execution_count": 125,
   "id": "5d3d1314",
   "metadata": {},
   "outputs": [],
   "source": [
    "df_clean[\"annual_inc_group\"] = df_clean[\"annual_inc\"].astype(str)"
   ]
  },
  {
   "cell_type": "code",
   "execution_count": 126,
   "id": "ffe0d2de",
   "metadata": {},
   "outputs": [],
   "source": [
    "df_clean.loc[df_clean[\"annual_inc\"] <= df_clean[\"annual_inc\"].quantile(0.25),\"annual_inc_group\"] = \"L\""
   ]
  },
  {
   "cell_type": "code",
   "execution_count": 128,
   "id": "6186b059",
   "metadata": {},
   "outputs": [],
   "source": [
    "df_clean.loc[((df_clean[\"annual_inc\"] > df_clean[\"annual_inc\"].quantile(0.25)) & \n",
    "             (df_clean[\"annual_inc\"] <= df_clean[\"annual_inc\"].quantile(0.5))),\"annual_inc_group\"] = \"M\""
   ]
  },
  {
   "cell_type": "code",
   "execution_count": 129,
   "id": "513b7877",
   "metadata": {},
   "outputs": [],
   "source": [
    "df_clean.loc[((df_clean[\"annual_inc\"] > df_clean[\"annual_inc\"].quantile(0.5)) & \n",
    "             (df_clean[\"annual_inc\"] <= df_clean[\"annual_inc\"].quantile(0.75))),\"annual_inc_group\"] = \"H\""
   ]
  },
  {
   "cell_type": "code",
   "execution_count": 130,
   "id": "2bc62a3c",
   "metadata": {},
   "outputs": [],
   "source": [
    "df_clean.loc[((df_clean[\"annual_inc\"] > df_clean[\"annual_inc\"].quantile(0.75)) & \n",
    "             (df_clean[\"annual_inc\"] <= df_clean[\"annual_inc\"].quantile(1))),\"annual_inc_group\"] = \"VH\""
   ]
  },
  {
   "cell_type": "code",
   "execution_count": 132,
   "id": "55d315fc",
   "metadata": {},
   "outputs": [
    {
     "data": {
      "text/plain": [
       "M     9960\n",
       "L     9929\n",
       "VH    9929\n",
       "H     9898\n",
       "Name: annual_inc_group, dtype: int64"
      ]
     },
     "execution_count": 132,
     "metadata": {},
     "output_type": "execute_result"
    }
   ],
   "source": [
    "df_clean[\"annual_inc_group\"].value_counts()"
   ]
  },
  {
   "cell_type": "markdown",
   "id": "3ddeb589",
   "metadata": {},
   "source": [
    "commarison of annual_inc_group vs loan_status"
   ]
  },
  {
   "cell_type": "code",
   "execution_count": 133,
   "id": "f988e28d",
   "metadata": {},
   "outputs": [
    {
     "data": {
      "image/png": "[encoded data removed]",
      "text/plain": [
       "<Figure size 432x288 with 1 Axes>"
      ]
     },
     "metadata": {
      "needs_background": "light"
     },
     "output_type": "display_data"
    }
   ],
   "source": [
    "sns.countplot(x=df_clean[\"annual_inc_group\"],hue=df_clean[\"loan_status\"])\n",
    "plt.show()"
   ]
  },
  {
   "cell_type": "markdown",
   "id": "d6b4875f",
   "metadata": {},
   "source": [
    "Good indication that lower the income group higher are the defaulters. Difficult to visualize in this plot, Lets ee the percentage of defaulters in the each iincome group"
   ]
  },
  {
   "cell_type": "code",
   "execution_count": 147,
   "id": "3fa37a7c",
   "metadata": {},
   "outputs": [],
   "source": [
    "L = 100 * df_clean[((df_clean[\"annual_inc_group\"] == 'L')&(df_clean[\"loan_status\"] == \"Charged Off\"))].shape[0] / df_clean[(df_clean[\"annual_inc_group\"] == 'L')].shape[0]\n",
    "M = 100 * df_clean[((df_clean[\"annual_inc_group\"] == 'M')&(df_clean[\"loan_status\"] == \"Charged Off\"))].shape[0] / df_clean[(df_clean[\"annual_inc_group\"] == 'M')].shape[0]\n",
    "H = 100 * df_clean[((df_clean[\"annual_inc_group\"] == 'H')&(df_clean[\"loan_status\"] == \"Charged Off\"))].shape[0] / df_clean[(df_clean[\"annual_inc_group\"] == 'H')].shape[0]\n",
    "VH = 100 * df_clean[((df_clean[\"annual_inc_group\"] == 'VH')&(df_clean[\"loan_status\"] == \"Charged Off\"))].shape[0] / df_clean[(df_clean[\"annual_inc_group\"] == 'VH')].shape[0]"
   ]
  },
  {
   "cell_type": "code",
   "execution_count": 148,
   "id": "7d02fe9f",
   "metadata": {},
   "outputs": [
    {
     "name": "stdout",
     "output_type": "stream",
     "text": [
      "17.705710544868566 14.598393574297189 13.588603758335017 10.776513244032632\n"
     ]
    }
   ],
   "source": [
    "print(L,M,H,VH)"
   ]
  },
  {
   "cell_type": "code",
   "execution_count": 150,
   "id": "b9a79f47",
   "metadata": {},
   "outputs": [
    {
     "data": {
      "image/png": "[encoded data removed]",
      "text/plain": [
       "<Figure size 432x288 with 1 Axes>"
      ]
     },
     "metadata": {
      "needs_background": "light"
     },
     "output_type": "display_data"
    }
   ],
   "source": [
    "plt.bar(x=[\"L\",\"M\",\"H\",\"VH\"],height = [L,M,H,VH])\n",
    "plt.ylabel(\"Defaulter in %\")\n",
    "plt.xlabel(\"Annuanl income group\")\n",
    "plt.show()"
   ]
  },
  {
   "cell_type": "markdown",
   "id": "395892ea",
   "metadata": {},
   "source": [
    "Lower income group applicants have 6% higher defaulting tendency compared to VH income group\n",
    "Lower income group applicants have 3 to 4% higher defaulting tendency compared to M and H income groups"
   ]
  },
  {
   "cell_type": "code",
   "execution_count": null,
   "id": "be05a816",
   "metadata": {},
   "outputs": [],
   "source": []
  }
 ],
 "metadata": {
  "kernelspec": {
   "display_name": "Python 3 (ipykernel)",
   "language": "python",
   "name": "python3"
  },
  "language_info": {
   "codemirror_mode": {
    "name": "ipython",
    "version": 3
   },
   "file_extension": ".py",
   "mimetype": "text/x-python",
   "name": "python",
   "nbconvert_exporter": "python",
   "pygments_lexer": "ipython3",
   "version": "3.9.12"
  }
 },
 "nbformat": 4,
 "nbformat_minor": 5
}
